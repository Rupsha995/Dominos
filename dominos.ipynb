{
 "cells": [
  {
   "cell_type": "markdown",
   "id": "f1b13d4e-a5e3-41cd-8bbe-b96cf6d0483e",
   "metadata": {},
   "source": [
    "# predictive purchase order system"
   ]
  },
  {
   "cell_type": "code",
   "execution_count": 6,
   "id": "1dbf214d-cec6-4857-818d-73f30802c3bc",
   "metadata": {},
   "outputs": [],
   "source": [
    "#importing required libraries"
   ]
  },
  {
   "cell_type": "code",
   "execution_count": 195,
   "id": "207f3ebb-2e35-4879-adb8-7e5eae95cdd4",
   "metadata": {},
   "outputs": [],
   "source": [
    "import pandas as pd\n",
    "import numpy as np\n",
    "import os\n",
    "import seaborn as sns\n",
    "import matplotlib.pyplot as plt\n",
    "import datetime\n",
    "from datetime import timedelta\n",
    "import warnings\n",
    "warnings.filterwarnings(\"ignore\")\n",
    "import pickle"
   ]
  },
  {
   "cell_type": "code",
   "execution_count": 317,
   "id": "0f2fb178-7594-451f-91a5-d9a224581783",
   "metadata": {},
   "outputs": [],
   "source": [
    "from statsmodels.tsa.stattools import adfuller\n",
    "from statsmodels.graphics.tsaplots import plot_acf, plot_pacf"
   ]
  },
  {
   "cell_type": "code",
   "execution_count": 431,
   "id": "180eaba7-ac5a-457a-9f74-4dba63ca3015",
   "metadata": {},
   "outputs": [
    {
     "name": "stdout",
     "output_type": "stream",
     "text": [
      "Collecting prophet\n",
      "  Downloading prophet-1.1.7-py3-none-win_amd64.whl.metadata (3.6 kB)\n",
      "Collecting cmdstanpy>=1.0.4 (from prophet)\n",
      "  Downloading cmdstanpy-1.2.5-py3-none-any.whl.metadata (4.0 kB)\n",
      "Requirement already satisfied: numpy>=1.15.4 in c:\\users\\rupsh\\anaconda3\\lib\\site-packages (from prophet) (1.26.4)\n",
      "Requirement already satisfied: matplotlib>=2.0.0 in c:\\users\\rupsh\\anaconda3\\lib\\site-packages (from prophet) (3.9.2)\n",
      "Requirement already satisfied: pandas>=1.0.4 in c:\\users\\rupsh\\anaconda3\\lib\\site-packages (from prophet) (2.2.2)\n",
      "Requirement already satisfied: holidays<1,>=0.25 in c:\\users\\rupsh\\anaconda3\\lib\\site-packages (from prophet) (0.73)\n",
      "Requirement already satisfied: tqdm>=4.36.1 in c:\\users\\rupsh\\anaconda3\\lib\\site-packages (from prophet) (4.66.5)\n",
      "Collecting importlib_resources (from prophet)\n",
      "  Downloading importlib_resources-6.5.2-py3-none-any.whl.metadata (3.9 kB)\n",
      "Collecting stanio<2.0.0,>=0.4.0 (from cmdstanpy>=1.0.4->prophet)\n",
      "  Downloading stanio-0.5.1-py3-none-any.whl.metadata (1.6 kB)\n",
      "Requirement already satisfied: python-dateutil in c:\\users\\rupsh\\anaconda3\\lib\\site-packages (from holidays<1,>=0.25->prophet) (2.9.0.post0)\n",
      "Requirement already satisfied: contourpy>=1.0.1 in c:\\users\\rupsh\\anaconda3\\lib\\site-packages (from matplotlib>=2.0.0->prophet) (1.2.0)\n",
      "Requirement already satisfied: cycler>=0.10 in c:\\users\\rupsh\\anaconda3\\lib\\site-packages (from matplotlib>=2.0.0->prophet) (0.11.0)\n",
      "Requirement already satisfied: fonttools>=4.22.0 in c:\\users\\rupsh\\anaconda3\\lib\\site-packages (from matplotlib>=2.0.0->prophet) (4.51.0)\n",
      "Requirement already satisfied: kiwisolver>=1.3.1 in c:\\users\\rupsh\\anaconda3\\lib\\site-packages (from matplotlib>=2.0.0->prophet) (1.4.4)\n",
      "Requirement already satisfied: packaging>=20.0 in c:\\users\\rupsh\\anaconda3\\lib\\site-packages (from matplotlib>=2.0.0->prophet) (24.1)\n",
      "Requirement already satisfied: pillow>=8 in c:\\users\\rupsh\\anaconda3\\lib\\site-packages (from matplotlib>=2.0.0->prophet) (10.4.0)\n",
      "Requirement already satisfied: pyparsing>=2.3.1 in c:\\users\\rupsh\\anaconda3\\lib\\site-packages (from matplotlib>=2.0.0->prophet) (3.1.2)\n",
      "Requirement already satisfied: pytz>=2020.1 in c:\\users\\rupsh\\anaconda3\\lib\\site-packages (from pandas>=1.0.4->prophet) (2024.1)\n",
      "Requirement already satisfied: tzdata>=2022.7 in c:\\users\\rupsh\\anaconda3\\lib\\site-packages (from pandas>=1.0.4->prophet) (2023.3)\n",
      "Requirement already satisfied: colorama in c:\\users\\rupsh\\anaconda3\\lib\\site-packages (from tqdm>=4.36.1->prophet) (0.4.6)\n",
      "Requirement already satisfied: six>=1.5 in c:\\users\\rupsh\\anaconda3\\lib\\site-packages (from python-dateutil->holidays<1,>=0.25->prophet) (1.16.0)\n",
      "Downloading prophet-1.1.7-py3-none-win_amd64.whl (13.3 MB)\n",
      "   ---------------------------------------- 0.0/13.3 MB ? eta -:--:--\n",
      "   ---------------------------------------- 0.0/13.3 MB ? eta -:--:--\n",
      "   ---------------------------------------- 0.0/13.3 MB ? eta -:--:--\n",
      "   ---------------------------------------- 0.0/13.3 MB ? eta -:--:--\n",
      "   ---------------------------------------- 0.0/13.3 MB ? eta -:--:--\n",
      "   ---------------------------------------- 0.0/13.3 MB ? eta -:--:--\n",
      "   ---------------------------------------- 0.0/13.3 MB ? eta -:--:--\n",
      "   ---------------------------------------- 0.0/13.3 MB ? eta -:--:--\n",
      "    --------------------------------------- 0.3/13.3 MB ? eta -:--:--\n",
      "    --------------------------------------- 0.3/13.3 MB ? eta -:--:--\n",
      "    --------------------------------------- 0.3/13.3 MB ? eta -:--:--\n",
      "    --------------------------------------- 0.3/13.3 MB ? eta -:--:--\n",
      "    --------------------------------------- 0.3/13.3 MB ? eta -:--:--\n",
      "   - -------------------------------------- 0.5/13.3 MB 258.3 kB/s eta 0:00:50\n",
      "   -- ------------------------------------- 0.8/13.3 MB 394.8 kB/s eta 0:00:32\n",
      "   -- ------------------------------------- 0.8/13.3 MB 394.8 kB/s eta 0:00:32\n",
      "   --- ------------------------------------ 1.0/13.3 MB 474.9 kB/s eta 0:00:26\n",
      "   --- ------------------------------------ 1.3/13.3 MB 520.4 kB/s eta 0:00:24\n",
      "   ---- ----------------------------------- 1.6/13.3 MB 590.9 kB/s eta 0:00:20\n",
      "   ----- ---------------------------------- 1.8/13.3 MB 645.4 kB/s eta 0:00:18\n",
      "   ------ --------------------------------- 2.1/13.3 MB 699.0 kB/s eta 0:00:17\n",
      "   ------- -------------------------------- 2.4/13.3 MB 733.5 kB/s eta 0:00:15\n",
      "   ------- -------------------------------- 2.6/13.3 MB 762.8 kB/s eta 0:00:15\n",
      "   ------- -------------------------------- 2.6/13.3 MB 762.8 kB/s eta 0:00:15\n",
      "   -------- ------------------------------- 2.9/13.3 MB 776.7 kB/s eta 0:00:14\n",
      "   -------- ------------------------------- 2.9/13.3 MB 776.7 kB/s eta 0:00:14\n",
      "   --------- ------------------------------ 3.1/13.3 MB 759.6 kB/s eta 0:00:14\n",
      "   ---------- ----------------------------- 3.4/13.3 MB 786.4 kB/s eta 0:00:13\n",
      "   ----------- ---------------------------- 3.7/13.3 MB 793.3 kB/s eta 0:00:13\n",
      "   ----------- ---------------------------- 3.9/13.3 MB 821.4 kB/s eta 0:00:12\n",
      "   ----------- ---------------------------- 3.9/13.3 MB 821.4 kB/s eta 0:00:12\n",
      "   ------------ --------------------------- 4.2/13.3 MB 793.9 kB/s eta 0:00:12\n",
      "   ------------ --------------------------- 4.2/13.3 MB 793.9 kB/s eta 0:00:12\n",
      "   ------------ --------------------------- 4.2/13.3 MB 793.9 kB/s eta 0:00:12\n",
      "   ------------- -------------------------- 4.5/13.3 MB 760.5 kB/s eta 0:00:12\n",
      "   ------------- -------------------------- 4.5/13.3 MB 760.5 kB/s eta 0:00:12\n",
      "   ------------- -------------------------- 4.5/13.3 MB 760.5 kB/s eta 0:00:12\n",
      "   -------------- ------------------------- 4.7/13.3 MB 735.1 kB/s eta 0:00:12\n",
      "   -------------- ------------------------- 4.7/13.3 MB 735.1 kB/s eta 0:00:12\n",
      "   -------------- ------------------------- 5.0/13.3 MB 719.1 kB/s eta 0:00:12\n",
      "   -------------- ------------------------- 5.0/13.3 MB 719.1 kB/s eta 0:00:12\n",
      "   -------------- ------------------------- 5.0/13.3 MB 719.1 kB/s eta 0:00:12\n",
      "   -------------- ------------------------- 5.0/13.3 MB 719.1 kB/s eta 0:00:12\n",
      "   --------------- ------------------------ 5.2/13.3 MB 666.9 kB/s eta 0:00:13\n",
      "   --------------- ------------------------ 5.2/13.3 MB 666.9 kB/s eta 0:00:13\n",
      "   --------------- ------------------------ 5.2/13.3 MB 666.9 kB/s eta 0:00:13\n",
      "   ---------------- ----------------------- 5.5/13.3 MB 647.8 kB/s eta 0:00:13\n",
      "   ---------------- ----------------------- 5.5/13.3 MB 647.8 kB/s eta 0:00:13\n",
      "   ---------------- ----------------------- 5.5/13.3 MB 647.8 kB/s eta 0:00:13\n",
      "   ---------------- ----------------------- 5.5/13.3 MB 647.8 kB/s eta 0:00:13\n",
      "   ---------------- ----------------------- 5.5/13.3 MB 647.8 kB/s eta 0:00:13\n",
      "   ----------------- ---------------------- 5.8/13.3 MB 613.9 kB/s eta 0:00:13\n",
      "   ----------------- ---------------------- 5.8/13.3 MB 613.9 kB/s eta 0:00:13\n",
      "   ------------------ --------------------- 6.0/13.3 MB 612.2 kB/s eta 0:00:12\n",
      "   ------------------ --------------------- 6.3/13.3 MB 626.4 kB/s eta 0:00:12\n",
      "   ------------------- -------------------- 6.6/13.3 MB 633.1 kB/s eta 0:00:11\n",
      "   -------------------- ------------------- 6.8/13.3 MB 643.3 kB/s eta 0:00:11\n",
      "   --------------------- ------------------ 7.1/13.3 MB 659.0 kB/s eta 0:00:10\n",
      "   ---------------------- ----------------- 7.3/13.3 MB 676.1 kB/s eta 0:00:09\n",
      "   ---------------------- ----------------- 7.6/13.3 MB 677.9 kB/s eta 0:00:09\n",
      "   ----------------------- ---------------- 7.9/13.3 MB 696.1 kB/s eta 0:00:08\n",
      "   ------------------------ --------------- 8.1/13.3 MB 704.9 kB/s eta 0:00:08\n",
      "   ------------------------- -------------- 8.4/13.3 MB 718.4 kB/s eta 0:00:07\n",
      "   ------------------------- -------------- 8.7/13.3 MB 718.8 kB/s eta 0:00:07\n",
      "   -------------------------- ------------- 8.9/13.3 MB 733.4 kB/s eta 0:00:07\n",
      "   --------------------------- ------------ 9.2/13.3 MB 746.7 kB/s eta 0:00:06\n",
      "   ---------------------------- ----------- 9.4/13.3 MB 747.1 kB/s eta 0:00:06\n",
      "   ---------------------------- ----------- 9.4/13.3 MB 747.1 kB/s eta 0:00:06\n",
      "   ---------------------------- ----------- 9.4/13.3 MB 747.1 kB/s eta 0:00:06\n",
      "   ----------------------------- ---------- 10.0/13.3 MB 751.5 kB/s eta 0:00:05\n",
      "   ------------------------------ --------- 10.2/13.3 MB 765.4 kB/s eta 0:00:05\n",
      "   ------------------------------ --------- 10.2/13.3 MB 765.4 kB/s eta 0:00:05\n",
      "   -------------------------------- ------- 10.7/13.3 MB 773.2 kB/s eta 0:00:04\n",
      "   -------------------------------- ------- 10.7/13.3 MB 773.2 kB/s eta 0:00:04\n",
      "   --------------------------------- ------ 11.0/13.3 MB 773.8 kB/s eta 0:00:03\n",
      "   --------------------------------- ------ 11.3/13.3 MB 783.0 kB/s eta 0:00:03\n",
      "   --------------------------------- ------ 11.3/13.3 MB 783.0 kB/s eta 0:00:03\n",
      "   ---------------------------------- ----- 11.5/13.3 MB 776.6 kB/s eta 0:00:03\n",
      "   ----------------------------------- ---- 11.8/13.3 MB 787.0 kB/s eta 0:00:02\n",
      "   ------------------------------------ --- 12.1/13.3 MB 792.2 kB/s eta 0:00:02\n",
      "   ------------------------------------ --- 12.1/13.3 MB 792.2 kB/s eta 0:00:02\n",
      "   ------------------------------------ --- 12.3/13.3 MB 786.7 kB/s eta 0:00:02\n",
      "   ------------------------------------- -- 12.6/13.3 MB 791.7 kB/s eta 0:00:01\n",
      "   ------------------------------------- -- 12.6/13.3 MB 791.7 kB/s eta 0:00:01\n",
      "   ------------------------------------- -- 12.6/13.3 MB 791.7 kB/s eta 0:00:01\n",
      "   ------------------------------------- -- 12.6/13.3 MB 791.7 kB/s eta 0:00:01\n",
      "   ------------------------------------- -- 12.6/13.3 MB 791.7 kB/s eta 0:00:01\n",
      "   ------------------------------------- -- 12.6/13.3 MB 791.7 kB/s eta 0:00:01\n",
      "   ------------------------------------- -- 12.6/13.3 MB 791.7 kB/s eta 0:00:01\n",
      "   ------------------------------------- -- 12.6/13.3 MB 791.7 kB/s eta 0:00:01\n",
      "   ---------------------------------------- 13.3/13.3 MB 752.7 kB/s eta 0:00:00\n",
      "Downloading cmdstanpy-1.2.5-py3-none-any.whl (94 kB)\n",
      "Downloading importlib_resources-6.5.2-py3-none-any.whl (37 kB)\n",
      "Downloading stanio-0.5.1-py3-none-any.whl (8.1 kB)\n",
      "Installing collected packages: stanio, importlib_resources, cmdstanpy, prophet\n",
      "Successfully installed cmdstanpy-1.2.5 importlib_resources-6.5.2 prophet-1.1.7 stanio-0.5.1\n"
     ]
    }
   ],
   "source": [
    "!pip install prophet"
   ]
  },
  {
   "cell_type": "code",
   "execution_count": 387,
   "id": "8c3709a4-8661-4740-b0d2-fc6e862972aa",
   "metadata": {},
   "outputs": [],
   "source": [
    "from sklearn.linear_model import LinearRegression\n",
    "from sklearn.model_selection import train_test_split\n",
    "from statsmodels.tsa.statespace.sarimax import SARIMAX\n",
    "from statsmodels.tsa.seasonal import seasonal_decompose\n",
    "from statsmodels.tsa.arima.model import ARIMA\n",
    "from sklearn.preprocessing import MinMaxScaler\n",
    "from prophet import Prophet\n",
    "from sklearn.metrics import mean_absolute_percentage_error \n",
    "from sklearn import datasets\n",
    "warnings.filterwarnings(\"ignore\")\n",
    "%matplotlib inline\n",
    "pd.options.display.float_format = '{:.2f}'.format\n",
    "from pmdarima import auto_arima\n",
    "     "
   ]
  },
  {
   "cell_type": "code",
   "execution_count": 48,
   "id": "f2a30718-c571-4958-9b48-ebac25373038",
   "metadata": {},
   "outputs": [],
   "source": [
    "#initial analysis"
   ]
  },
  {
   "cell_type": "code",
   "execution_count": 199,
   "id": "1087a042-6baf-4ba4-aaba-2f8b265f3818",
   "metadata": {},
   "outputs": [],
   "source": [
    "data_excel = pd.read_excel('Pizza_Sale.xlsx')"
   ]
  },
  {
   "cell_type": "code",
   "execution_count": 200,
   "id": "aec5c7c4-ea4f-4273-8899-767d95b06148",
   "metadata": {},
   "outputs": [],
   "source": [
    "data_list_excel = pd.read_excel('Pizza_ingredients.xlsx')"
   ]
  },
  {
   "cell_type": "code",
   "execution_count": 203,
   "id": "820fa462-f122-4627-859f-b58d8e038b93",
   "metadata": {},
   "outputs": [],
   "source": [
    "sales_data = data_excel.to_csv('dom.csv')"
   ]
  },
  {
   "cell_type": "code",
   "execution_count": 205,
   "id": "d1e62563-9fa1-4aa1-8b83-f9fafa5c407a",
   "metadata": {},
   "outputs": [],
   "source": [
    "sales_data = pd.read_csv('dom.csv')"
   ]
  },
  {
   "cell_type": "code",
   "execution_count": 207,
   "id": "b7ed68cc-e8f9-47aa-b23d-8b34fc2470b8",
   "metadata": {},
   "outputs": [],
   "source": [
    "data_list_excel.to_csv('ingredients.csv')"
   ]
  },
  {
   "cell_type": "code",
   "execution_count": 209,
   "id": "04f324e1-d373-465a-abf4-eaf283b7bb34",
   "metadata": {},
   "outputs": [],
   "source": [
    "ing_data = pd.read_csv('ingredients.csv')"
   ]
  },
  {
   "cell_type": "code",
   "execution_count": 211,
   "id": "f0c23be2-ddbd-492e-8a71-45ce1668832b",
   "metadata": {},
   "outputs": [
    {
     "data": {
      "text/html": [
       "<div>\n",
       "<style scoped>\n",
       "    .dataframe tbody tr th:only-of-type {\n",
       "        vertical-align: middle;\n",
       "    }\n",
       "\n",
       "    .dataframe tbody tr th {\n",
       "        vertical-align: top;\n",
       "    }\n",
       "\n",
       "    .dataframe thead th {\n",
       "        text-align: right;\n",
       "    }\n",
       "</style>\n",
       "<table border=\"1\" class=\"dataframe\">\n",
       "  <thead>\n",
       "    <tr style=\"text-align: right;\">\n",
       "      <th></th>\n",
       "      <th>Unnamed: 0</th>\n",
       "      <th>pizza_id</th>\n",
       "      <th>order_id</th>\n",
       "      <th>pizza_name_id</th>\n",
       "      <th>quantity</th>\n",
       "      <th>order_date</th>\n",
       "      <th>order_time</th>\n",
       "      <th>unit_price</th>\n",
       "      <th>total_price</th>\n",
       "      <th>pizza_size</th>\n",
       "      <th>pizza_category</th>\n",
       "      <th>pizza_ingredients</th>\n",
       "      <th>pizza_name</th>\n",
       "    </tr>\n",
       "  </thead>\n",
       "  <tbody>\n",
       "    <tr>\n",
       "      <th>0</th>\n",
       "      <td>0</td>\n",
       "      <td>1</td>\n",
       "      <td>1</td>\n",
       "      <td>hawaiian_m</td>\n",
       "      <td>1</td>\n",
       "      <td>2015-01-01 00:00:00</td>\n",
       "      <td>11:38:36</td>\n",
       "      <td>13.25</td>\n",
       "      <td>13.25</td>\n",
       "      <td>M</td>\n",
       "      <td>Classic</td>\n",
       "      <td>Sliced Ham, Pineapple, Mozzarella Cheese</td>\n",
       "      <td>The Hawaiian Pizza</td>\n",
       "    </tr>\n",
       "    <tr>\n",
       "      <th>1</th>\n",
       "      <td>1</td>\n",
       "      <td>2</td>\n",
       "      <td>2</td>\n",
       "      <td>classic_dlx_m</td>\n",
       "      <td>1</td>\n",
       "      <td>2015-01-01 00:00:00</td>\n",
       "      <td>11:57:40</td>\n",
       "      <td>16.00</td>\n",
       "      <td>16.00</td>\n",
       "      <td>M</td>\n",
       "      <td>Classic</td>\n",
       "      <td>Pepperoni, Mushrooms, Red Onions, Red Peppers,...</td>\n",
       "      <td>The Classic Deluxe Pizza</td>\n",
       "    </tr>\n",
       "    <tr>\n",
       "      <th>2</th>\n",
       "      <td>2</td>\n",
       "      <td>3</td>\n",
       "      <td>2</td>\n",
       "      <td>five_cheese_l</td>\n",
       "      <td>1</td>\n",
       "      <td>2015-01-01 00:00:00</td>\n",
       "      <td>11:57:40</td>\n",
       "      <td>18.50</td>\n",
       "      <td>18.50</td>\n",
       "      <td>L</td>\n",
       "      <td>Veggie</td>\n",
       "      <td>Mozzarella Cheese, Provolone Cheese, Smoked Go...</td>\n",
       "      <td>The Five Cheese Pizza</td>\n",
       "    </tr>\n",
       "    <tr>\n",
       "      <th>3</th>\n",
       "      <td>3</td>\n",
       "      <td>4</td>\n",
       "      <td>2</td>\n",
       "      <td>ital_supr_l</td>\n",
       "      <td>1</td>\n",
       "      <td>2015-01-01 00:00:00</td>\n",
       "      <td>11:57:40</td>\n",
       "      <td>20.75</td>\n",
       "      <td>20.75</td>\n",
       "      <td>L</td>\n",
       "      <td>Supreme</td>\n",
       "      <td>Calabrese Salami, Capocollo, Tomatoes, Red Oni...</td>\n",
       "      <td>The Italian Supreme Pizza</td>\n",
       "    </tr>\n",
       "    <tr>\n",
       "      <th>4</th>\n",
       "      <td>4</td>\n",
       "      <td>5</td>\n",
       "      <td>2</td>\n",
       "      <td>mexicana_m</td>\n",
       "      <td>1</td>\n",
       "      <td>2015-01-01 00:00:00</td>\n",
       "      <td>11:57:40</td>\n",
       "      <td>16.00</td>\n",
       "      <td>16.00</td>\n",
       "      <td>M</td>\n",
       "      <td>Veggie</td>\n",
       "      <td>Tomatoes, Red Peppers, Jalapeno Peppers, Red O...</td>\n",
       "      <td>The Mexicana Pizza</td>\n",
       "    </tr>\n",
       "  </tbody>\n",
       "</table>\n",
       "</div>"
      ],
      "text/plain": [
       "   Unnamed: 0  pizza_id  order_id  pizza_name_id  quantity  \\\n",
       "0           0         1         1     hawaiian_m         1   \n",
       "1           1         2         2  classic_dlx_m         1   \n",
       "2           2         3         2  five_cheese_l         1   \n",
       "3           3         4         2    ital_supr_l         1   \n",
       "4           4         5         2     mexicana_m         1   \n",
       "\n",
       "            order_date order_time  unit_price  total_price pizza_size  \\\n",
       "0  2015-01-01 00:00:00   11:38:36       13.25        13.25          M   \n",
       "1  2015-01-01 00:00:00   11:57:40       16.00        16.00          M   \n",
       "2  2015-01-01 00:00:00   11:57:40       18.50        18.50          L   \n",
       "3  2015-01-01 00:00:00   11:57:40       20.75        20.75          L   \n",
       "4  2015-01-01 00:00:00   11:57:40       16.00        16.00          M   \n",
       "\n",
       "  pizza_category                                  pizza_ingredients  \\\n",
       "0        Classic           Sliced Ham, Pineapple, Mozzarella Cheese   \n",
       "1        Classic  Pepperoni, Mushrooms, Red Onions, Red Peppers,...   \n",
       "2         Veggie  Mozzarella Cheese, Provolone Cheese, Smoked Go...   \n",
       "3        Supreme  Calabrese Salami, Capocollo, Tomatoes, Red Oni...   \n",
       "4         Veggie  Tomatoes, Red Peppers, Jalapeno Peppers, Red O...   \n",
       "\n",
       "                  pizza_name  \n",
       "0         The Hawaiian Pizza  \n",
       "1   The Classic Deluxe Pizza  \n",
       "2      The Five Cheese Pizza  \n",
       "3  The Italian Supreme Pizza  \n",
       "4         The Mexicana Pizza  "
      ]
     },
     "execution_count": 211,
     "metadata": {},
     "output_type": "execute_result"
    }
   ],
   "source": [
    "sales_data.head()"
   ]
  },
  {
   "cell_type": "code",
   "execution_count": 213,
   "id": "3c07f2ef-771b-4b56-b87d-1fa6485f6514",
   "metadata": {},
   "outputs": [
    {
     "data": {
      "text/plain": [
       "Index(['Unnamed: 0', 'pizza_id', 'order_id', 'pizza_name_id', 'quantity',\n",
       "       'order_date', 'order_time', 'unit_price', 'total_price', 'pizza_size',\n",
       "       'pizza_category', 'pizza_ingredients', 'pizza_name'],\n",
       "      dtype='object')"
      ]
     },
     "execution_count": 213,
     "metadata": {},
     "output_type": "execute_result"
    }
   ],
   "source": [
    "sales_data.columns"
   ]
  },
  {
   "cell_type": "code",
   "execution_count": 99,
   "id": "05a2973c-771f-43de-8875-d46cba002428",
   "metadata": {},
   "outputs": [],
   "source": [
    "#checking for null values"
   ]
  },
  {
   "cell_type": "code",
   "execution_count": 215,
   "id": "68e6c048-da9b-4ed5-8f80-3dbfaa6eb062",
   "metadata": {},
   "outputs": [
    {
     "data": {
      "text/plain": [
       "Unnamed: 0            0\n",
       "pizza_id              0\n",
       "order_id              0\n",
       "pizza_name_id        16\n",
       "quantity              0\n",
       "order_date            0\n",
       "order_time            0\n",
       "unit_price            0\n",
       "total_price           7\n",
       "pizza_size            0\n",
       "pizza_category       23\n",
       "pizza_ingredients    13\n",
       "pizza_name            7\n",
       "dtype: int64"
      ]
     },
     "execution_count": 215,
     "metadata": {},
     "output_type": "execute_result"
    }
   ],
   "source": [
    "sales_data.isnull().sum()\n",
    "    "
   ]
  },
  {
   "cell_type": "code",
   "execution_count": 105,
   "id": "c3946ddd-ab2e-44ff-9e54-3c248c3f4f7f",
   "metadata": {},
   "outputs": [],
   "source": [
    "#filling total price "
   ]
  },
  {
   "cell_type": "code",
   "execution_count": 219,
   "id": "97793d2e-b88e-41b2-8ad0-6b3e45e6a1da",
   "metadata": {},
   "outputs": [],
   "source": [
    "sales_data['total_price'] = sales_data['total_price'] .fillna(sales_data['unit_price']*sales_data['quantity'])"
   ]
  },
  {
   "cell_type": "code",
   "execution_count": null,
   "id": "a168f7d8-30d8-4961-9336-303095f6f35c",
   "metadata": {},
   "outputs": [],
   "source": [
    "#filling category"
   ]
  },
  {
   "cell_type": "code",
   "execution_count": 221,
   "id": "d33e500e-eeb0-4490-8bfc-51abee5840c6",
   "metadata": {},
   "outputs": [],
   "source": [
    "category_mapping = sales_data[['pizza_name_id', 'pizza_category']].dropna().drop_duplicates()\n"
   ]
  },
  {
   "cell_type": "code",
   "execution_count": 223,
   "id": "9b9fee47-e152-4805-9c4a-fb382831ecdb",
   "metadata": {},
   "outputs": [],
   "source": [
    "category_mapping = category_mapping.set_index('pizza_name_id')['pizza_category'].to_dict()"
   ]
  },
  {
   "cell_type": "code",
   "execution_count": 225,
   "id": "e7eac8d3-f2b5-4b49-beda-7c2efccf8ee4",
   "metadata": {},
   "outputs": [],
   "source": [
    "sales_data['pizza_category'] = sales_data['pizza_category'].fillna(sales_data['pizza_name_id'].map(category_mapping))"
   ]
  },
  {
   "cell_type": "code",
   "execution_count": 147,
   "id": "a096cbb8-c963-4642-883c-4de64bfc4e30",
   "metadata": {},
   "outputs": [],
   "source": [
    "#filling_ingredients"
   ]
  },
  {
   "cell_type": "code",
   "execution_count": 237,
   "id": "6bdb0652-2282-4b44-b442-648eaf08622e",
   "metadata": {},
   "outputs": [],
   "source": [
    "ingredients_mapping = sales_data[['pizza_name', 'pizza_ingredients']].dropna().drop_duplicates()\n",
    "ingredients_mapping = ingredients_mapping.set_index('pizza_name')['pizza_ingredients'].to_dict()\n",
    "sales_data['pizza_ingredients'] = sales_data['pizza_ingredients'].fillna(sales_data['pizza_name'].map(ingredients_mapping))"
   ]
  },
  {
   "cell_type": "code",
   "execution_count": 253,
   "id": "0a18ea48-7998-447d-8a86-74b3631e66e8",
   "metadata": {},
   "outputs": [
    {
     "data": {
      "text/plain": [
       "Unnamed: 0           0\n",
       "pizza_id             0\n",
       "order_id             0\n",
       "pizza_name_id        0\n",
       "quantity             0\n",
       "order_date           0\n",
       "order_time           0\n",
       "unit_price           0\n",
       "total_price          0\n",
       "pizza_size           0\n",
       "pizza_category       0\n",
       "pizza_ingredients    0\n",
       "pizza_name           0\n",
       "dtype: int64"
      ]
     },
     "execution_count": 253,
     "metadata": {},
     "output_type": "execute_result"
    }
   ],
   "source": [
    "sales_data.isnull().sum()"
   ]
  },
  {
   "cell_type": "code",
   "execution_count": null,
   "id": "a2278d85-d507-49d5-9c60-11ea28b911fc",
   "metadata": {},
   "outputs": [],
   "source": [
    "#filling pizza_name"
   ]
  },
  {
   "cell_type": "code",
   "execution_count": 235,
   "id": "14658487-c06a-4b9b-925f-2eb44491ff7a",
   "metadata": {},
   "outputs": [
    {
     "data": {
      "text/html": [
       "<div>\n",
       "<style scoped>\n",
       "    .dataframe tbody tr th:only-of-type {\n",
       "        vertical-align: middle;\n",
       "    }\n",
       "\n",
       "    .dataframe tbody tr th {\n",
       "        vertical-align: top;\n",
       "    }\n",
       "\n",
       "    .dataframe thead th {\n",
       "        text-align: right;\n",
       "    }\n",
       "</style>\n",
       "<table border=\"1\" class=\"dataframe\">\n",
       "  <thead>\n",
       "    <tr style=\"text-align: right;\">\n",
       "      <th></th>\n",
       "      <th>Unnamed: 0</th>\n",
       "      <th>pizza_id</th>\n",
       "      <th>order_id</th>\n",
       "      <th>pizza_name_id</th>\n",
       "      <th>quantity</th>\n",
       "      <th>order_date</th>\n",
       "      <th>order_time</th>\n",
       "      <th>unit_price</th>\n",
       "      <th>total_price</th>\n",
       "      <th>pizza_size</th>\n",
       "      <th>pizza_category</th>\n",
       "      <th>pizza_ingredients</th>\n",
       "      <th>pizza_name</th>\n",
       "    </tr>\n",
       "  </thead>\n",
       "  <tbody>\n",
       "    <tr>\n",
       "      <th>688</th>\n",
       "      <td>688</td>\n",
       "      <td>689</td>\n",
       "      <td>303</td>\n",
       "      <td>pepperoni_s</td>\n",
       "      <td>1</td>\n",
       "      <td>2015-05-01 00:00:00</td>\n",
       "      <td>20:02:51</td>\n",
       "      <td>9.75</td>\n",
       "      <td>9.75</td>\n",
       "      <td>S</td>\n",
       "      <td>Classic</td>\n",
       "      <td>Mozzarella Cheese, Pepperoni</td>\n",
       "      <td>NaN</td>\n",
       "    </tr>\n",
       "    <tr>\n",
       "      <th>689</th>\n",
       "      <td>689</td>\n",
       "      <td>690</td>\n",
       "      <td>304</td>\n",
       "      <td>hawaiian_s</td>\n",
       "      <td>1</td>\n",
       "      <td>2015-05-01 00:00:00</td>\n",
       "      <td>20:07:58</td>\n",
       "      <td>10.50</td>\n",
       "      <td>10.50</td>\n",
       "      <td>S</td>\n",
       "      <td>Classic</td>\n",
       "      <td>Sliced Ham, Pineapple, Mozzarella Cheese</td>\n",
       "      <td>NaN</td>\n",
       "    </tr>\n",
       "    <tr>\n",
       "      <th>690</th>\n",
       "      <td>690</td>\n",
       "      <td>691</td>\n",
       "      <td>304</td>\n",
       "      <td>mexicana_l</td>\n",
       "      <td>1</td>\n",
       "      <td>2015-05-01 00:00:00</td>\n",
       "      <td>20:07:58</td>\n",
       "      <td>20.25</td>\n",
       "      <td>20.25</td>\n",
       "      <td>L</td>\n",
       "      <td>Veggie</td>\n",
       "      <td>Tomatoes, Red Peppers, Jalapeno Peppers, Red O...</td>\n",
       "      <td>NaN</td>\n",
       "    </tr>\n",
       "    <tr>\n",
       "      <th>691</th>\n",
       "      <td>691</td>\n",
       "      <td>692</td>\n",
       "      <td>305</td>\n",
       "      <td>pepperoni_l</td>\n",
       "      <td>1</td>\n",
       "      <td>2015-05-01 00:00:00</td>\n",
       "      <td>20:35:40</td>\n",
       "      <td>15.25</td>\n",
       "      <td>15.25</td>\n",
       "      <td>L</td>\n",
       "      <td>Classic</td>\n",
       "      <td>Mozzarella Cheese, Pepperoni</td>\n",
       "      <td>NaN</td>\n",
       "    </tr>\n",
       "    <tr>\n",
       "      <th>692</th>\n",
       "      <td>692</td>\n",
       "      <td>693</td>\n",
       "      <td>305</td>\n",
       "      <td>sicilian_s</td>\n",
       "      <td>1</td>\n",
       "      <td>2015-05-01 00:00:00</td>\n",
       "      <td>20:35:40</td>\n",
       "      <td>12.25</td>\n",
       "      <td>12.25</td>\n",
       "      <td>S</td>\n",
       "      <td>Supreme</td>\n",
       "      <td>Coarse Sicilian Salami, Tomatoes, Green Olives...</td>\n",
       "      <td>NaN</td>\n",
       "    </tr>\n",
       "  </tbody>\n",
       "</table>\n",
       "</div>"
      ],
      "text/plain": [
       "     Unnamed: 0  pizza_id  order_id pizza_name_id  quantity  \\\n",
       "688         688       689       303   pepperoni_s         1   \n",
       "689         689       690       304    hawaiian_s         1   \n",
       "690         690       691       304    mexicana_l         1   \n",
       "691         691       692       305   pepperoni_l         1   \n",
       "692         692       693       305    sicilian_s         1   \n",
       "\n",
       "              order_date order_time  unit_price  total_price pizza_size  \\\n",
       "688  2015-05-01 00:00:00   20:02:51        9.75         9.75          S   \n",
       "689  2015-05-01 00:00:00   20:07:58       10.50        10.50          S   \n",
       "690  2015-05-01 00:00:00   20:07:58       20.25        20.25          L   \n",
       "691  2015-05-01 00:00:00   20:35:40       15.25        15.25          L   \n",
       "692  2015-05-01 00:00:00   20:35:40       12.25        12.25          S   \n",
       "\n",
       "    pizza_category                                  pizza_ingredients  \\\n",
       "688        Classic                       Mozzarella Cheese, Pepperoni   \n",
       "689        Classic           Sliced Ham, Pineapple, Mozzarella Cheese   \n",
       "690         Veggie  Tomatoes, Red Peppers, Jalapeno Peppers, Red O...   \n",
       "691        Classic                       Mozzarella Cheese, Pepperoni   \n",
       "692        Supreme  Coarse Sicilian Salami, Tomatoes, Green Olives...   \n",
       "\n",
       "    pizza_name  \n",
       "688        NaN  \n",
       "689        NaN  \n",
       "690        NaN  \n",
       "691        NaN  \n",
       "692        NaN  "
      ]
     },
     "execution_count": 235,
     "metadata": {},
     "output_type": "execute_result"
    }
   ],
   "source": [
    "sales_data[sales_data['pizza_name'].isna()].head()"
   ]
  },
  {
   "cell_type": "code",
   "execution_count": 241,
   "id": "8cf5ef59-5a3a-4c19-92eb-1c399f5a449e",
   "metadata": {},
   "outputs": [],
   "source": [
    "pizza_name_mapping = sales_data[['pizza_ingredients', 'pizza_name']].dropna().drop_duplicates()\n",
    "pizza_name_mapping = pizza_name_mapping.set_index('pizza_ingredients')['pizza_name'].to_dict()\n",
    "sales_data['pizza_name'] = sales_data['pizza_name'].fillna(sales_data['pizza_ingredients'].map(pizza_name_mapping))"
   ]
  },
  {
   "cell_type": "code",
   "execution_count": 155,
   "id": "c1d7049b-c219-449f-9a87-009914262f84",
   "metadata": {},
   "outputs": [],
   "source": [
    "#filling pizza_id"
   ]
  },
  {
   "cell_type": "code",
   "execution_count": 243,
   "id": "7a85c29d-72cc-41e3-8e81-67979dc83fd8",
   "metadata": {},
   "outputs": [
    {
     "data": {
      "text/html": [
       "<div>\n",
       "<style scoped>\n",
       "    .dataframe tbody tr th:only-of-type {\n",
       "        vertical-align: middle;\n",
       "    }\n",
       "\n",
       "    .dataframe tbody tr th {\n",
       "        vertical-align: top;\n",
       "    }\n",
       "\n",
       "    .dataframe thead th {\n",
       "        text-align: right;\n",
       "    }\n",
       "</style>\n",
       "<table border=\"1\" class=\"dataframe\">\n",
       "  <thead>\n",
       "    <tr style=\"text-align: right;\">\n",
       "      <th></th>\n",
       "      <th>Unnamed: 0</th>\n",
       "      <th>pizza_id</th>\n",
       "      <th>order_id</th>\n",
       "      <th>pizza_name_id</th>\n",
       "      <th>quantity</th>\n",
       "      <th>order_date</th>\n",
       "      <th>order_time</th>\n",
       "      <th>unit_price</th>\n",
       "      <th>total_price</th>\n",
       "      <th>pizza_size</th>\n",
       "      <th>pizza_category</th>\n",
       "      <th>pizza_ingredients</th>\n",
       "      <th>pizza_name</th>\n",
       "    </tr>\n",
       "  </thead>\n",
       "  <tbody>\n",
       "    <tr>\n",
       "      <th>36</th>\n",
       "      <td>36</td>\n",
       "      <td>37</td>\n",
       "      <td>15</td>\n",
       "      <td>NaN</td>\n",
       "      <td>1</td>\n",
       "      <td>2015-01-01 00:00:00</td>\n",
       "      <td>13:33:00</td>\n",
       "      <td>18.50</td>\n",
       "      <td>18.50</td>\n",
       "      <td>L</td>\n",
       "      <td>Veggie</td>\n",
       "      <td>Mozzarella Cheese, Provolone Cheese, Smoked Go...</td>\n",
       "      <td>The Five Cheese Pizza</td>\n",
       "    </tr>\n",
       "    <tr>\n",
       "      <th>37</th>\n",
       "      <td>37</td>\n",
       "      <td>38</td>\n",
       "      <td>15</td>\n",
       "      <td>NaN</td>\n",
       "      <td>1</td>\n",
       "      <td>2015-01-01 00:00:00</td>\n",
       "      <td>13:33:00</td>\n",
       "      <td>20.75</td>\n",
       "      <td>20.75</td>\n",
       "      <td>L</td>\n",
       "      <td>Supreme</td>\n",
       "      <td>Soppressata Salami, Fontina Cheese, Mozzarella...</td>\n",
       "      <td>The Soppressata Pizza</td>\n",
       "    </tr>\n",
       "    <tr>\n",
       "      <th>38</th>\n",
       "      <td>38</td>\n",
       "      <td>39</td>\n",
       "      <td>15</td>\n",
       "      <td>NaN</td>\n",
       "      <td>1</td>\n",
       "      <td>2015-01-01 00:00:00</td>\n",
       "      <td>13:33:00</td>\n",
       "      <td>12.00</td>\n",
       "      <td>12.00</td>\n",
       "      <td>S</td>\n",
       "      <td>Classic</td>\n",
       "      <td>Kalamata Olives, Feta Cheese, Tomatoes, Garlic...</td>\n",
       "      <td>The Greek Pizza</td>\n",
       "    </tr>\n",
       "    <tr>\n",
       "      <th>39</th>\n",
       "      <td>39</td>\n",
       "      <td>40</td>\n",
       "      <td>16</td>\n",
       "      <td>NaN</td>\n",
       "      <td>1</td>\n",
       "      <td>2015-01-01 00:00:00</td>\n",
       "      <td>13:34:07</td>\n",
       "      <td>17.95</td>\n",
       "      <td>17.95</td>\n",
       "      <td>L</td>\n",
       "      <td>Veggie</td>\n",
       "      <td>Ricotta Cheese, Gorgonzola Piccante Cheese, Mo...</td>\n",
       "      <td>The Four Cheese Pizza</td>\n",
       "    </tr>\n",
       "    <tr>\n",
       "      <th>40</th>\n",
       "      <td>40</td>\n",
       "      <td>41</td>\n",
       "      <td>16</td>\n",
       "      <td>NaN</td>\n",
       "      <td>1</td>\n",
       "      <td>2015-01-01 00:00:00</td>\n",
       "      <td>13:34:07</td>\n",
       "      <td>12.00</td>\n",
       "      <td>12.00</td>\n",
       "      <td>S</td>\n",
       "      <td>Classic</td>\n",
       "      <td>Tomatoes, Anchovies, Green Olives, Red Onions,...</td>\n",
       "      <td>The Napolitana Pizza</td>\n",
       "    </tr>\n",
       "  </tbody>\n",
       "</table>\n",
       "</div>"
      ],
      "text/plain": [
       "    Unnamed: 0  pizza_id  order_id pizza_name_id  quantity  \\\n",
       "36          36        37        15           NaN         1   \n",
       "37          37        38        15           NaN         1   \n",
       "38          38        39        15           NaN         1   \n",
       "39          39        40        16           NaN         1   \n",
       "40          40        41        16           NaN         1   \n",
       "\n",
       "             order_date order_time  unit_price  total_price pizza_size  \\\n",
       "36  2015-01-01 00:00:00   13:33:00       18.50        18.50          L   \n",
       "37  2015-01-01 00:00:00   13:33:00       20.75        20.75          L   \n",
       "38  2015-01-01 00:00:00   13:33:00       12.00        12.00          S   \n",
       "39  2015-01-01 00:00:00   13:34:07       17.95        17.95          L   \n",
       "40  2015-01-01 00:00:00   13:34:07       12.00        12.00          S   \n",
       "\n",
       "   pizza_category                                  pizza_ingredients  \\\n",
       "36         Veggie  Mozzarella Cheese, Provolone Cheese, Smoked Go...   \n",
       "37        Supreme  Soppressata Salami, Fontina Cheese, Mozzarella...   \n",
       "38        Classic  Kalamata Olives, Feta Cheese, Tomatoes, Garlic...   \n",
       "39         Veggie  Ricotta Cheese, Gorgonzola Piccante Cheese, Mo...   \n",
       "40        Classic  Tomatoes, Anchovies, Green Olives, Red Onions,...   \n",
       "\n",
       "               pizza_name  \n",
       "36  The Five Cheese Pizza  \n",
       "37  The Soppressata Pizza  \n",
       "38        The Greek Pizza  \n",
       "39  The Four Cheese Pizza  \n",
       "40   The Napolitana Pizza  "
      ]
     },
     "execution_count": 243,
     "metadata": {},
     "output_type": "execute_result"
    }
   ],
   "source": [
    "sales_data[sales_data['pizza_name_id'].isna()].head()"
   ]
  },
  {
   "cell_type": "code",
   "execution_count": 245,
   "id": "d53b55ec-a343-4698-9f8b-a7d598ef283f",
   "metadata": {},
   "outputs": [],
   "source": [
    "id_mapping = sales_data[['pizza_name', 'pizza_name_id']].dropna().drop_duplicates()"
   ]
  },
  {
   "cell_type": "code",
   "execution_count": 247,
   "id": "30e65a37-8e1b-4f25-88c1-ba00ca0953d2",
   "metadata": {},
   "outputs": [],
   "source": [
    "id_mapping = id_mapping.set_index('pizza_name') ['pizza_name_id'].to_dict()"
   ]
  },
  {
   "cell_type": "code",
   "execution_count": 249,
   "id": "df217623-a62f-4575-8d0e-2e127bad69fc",
   "metadata": {},
   "outputs": [],
   "source": [
    "sales_data['pizza_name_id'] = sales_data['pizza_name_id'].fillna(sales_data['pizza_name'].map(id_mapping))"
   ]
  },
  {
   "cell_type": "code",
   "execution_count": 179,
   "id": "fa26b1de-8486-4183-b023-8b3487b67156",
   "metadata": {},
   "outputs": [],
   "source": [
    "#handling missing values in ingredients list"
   ]
  },
  {
   "cell_type": "code",
   "execution_count": 255,
   "id": "ec98b30b-1436-4bd4-b435-e094560de18d",
   "metadata": {},
   "outputs": [
    {
     "data": {
      "text/plain": [
       "Unnamed: 0            0\n",
       "pizza_name_id         0\n",
       "pizza_name            0\n",
       "pizza_ingredients     0\n",
       "Items_Qty_In_Grams    4\n",
       "dtype: int64"
      ]
     },
     "execution_count": 255,
     "metadata": {},
     "output_type": "execute_result"
    }
   ],
   "source": [
    "ing_data.isnull().sum()"
   ]
  },
  {
   "cell_type": "code",
   "execution_count": 257,
   "id": "e65845db-5747-48a6-b43d-10f8c046af7c",
   "metadata": {},
   "outputs": [
    {
     "data": {
      "text/html": [
       "<div>\n",
       "<style scoped>\n",
       "    .dataframe tbody tr th:only-of-type {\n",
       "        vertical-align: middle;\n",
       "    }\n",
       "\n",
       "    .dataframe tbody tr th {\n",
       "        vertical-align: top;\n",
       "    }\n",
       "\n",
       "    .dataframe thead th {\n",
       "        text-align: right;\n",
       "    }\n",
       "</style>\n",
       "<table border=\"1\" class=\"dataframe\">\n",
       "  <thead>\n",
       "    <tr style=\"text-align: right;\">\n",
       "      <th></th>\n",
       "      <th>Unnamed: 0</th>\n",
       "      <th>pizza_name_id</th>\n",
       "      <th>pizza_name</th>\n",
       "      <th>pizza_ingredients</th>\n",
       "      <th>Items_Qty_In_Grams</th>\n",
       "    </tr>\n",
       "  </thead>\n",
       "  <tbody>\n",
       "    <tr>\n",
       "      <th>0</th>\n",
       "      <td>0</td>\n",
       "      <td>bbq_ckn_l</td>\n",
       "      <td>The Barbecue Chicken Pizza</td>\n",
       "      <td>Barbecued Chicken</td>\n",
       "      <td>40.00</td>\n",
       "    </tr>\n",
       "    <tr>\n",
       "      <th>1</th>\n",
       "      <td>1</td>\n",
       "      <td>bbq_ckn_l</td>\n",
       "      <td>The Barbecue Chicken Pizza</td>\n",
       "      <td>Red Peppers</td>\n",
       "      <td>15.00</td>\n",
       "    </tr>\n",
       "    <tr>\n",
       "      <th>2</th>\n",
       "      <td>2</td>\n",
       "      <td>bbq_ckn_l</td>\n",
       "      <td>The Barbecue Chicken Pizza</td>\n",
       "      <td>Green Peppers</td>\n",
       "      <td>20.00</td>\n",
       "    </tr>\n",
       "    <tr>\n",
       "      <th>3</th>\n",
       "      <td>3</td>\n",
       "      <td>bbq_ckn_l</td>\n",
       "      <td>The Barbecue Chicken Pizza</td>\n",
       "      <td>Tomatoes</td>\n",
       "      <td>30.00</td>\n",
       "    </tr>\n",
       "    <tr>\n",
       "      <th>4</th>\n",
       "      <td>4</td>\n",
       "      <td>bbq_ckn_l</td>\n",
       "      <td>The Barbecue Chicken Pizza</td>\n",
       "      <td>Red Onions</td>\n",
       "      <td>60.00</td>\n",
       "    </tr>\n",
       "  </tbody>\n",
       "</table>\n",
       "</div>"
      ],
      "text/plain": [
       "   Unnamed: 0 pizza_name_id                  pizza_name  pizza_ingredients  \\\n",
       "0           0     bbq_ckn_l  The Barbecue Chicken Pizza  Barbecued Chicken   \n",
       "1           1     bbq_ckn_l  The Barbecue Chicken Pizza        Red Peppers   \n",
       "2           2     bbq_ckn_l  The Barbecue Chicken Pizza      Green Peppers   \n",
       "3           3     bbq_ckn_l  The Barbecue Chicken Pizza           Tomatoes   \n",
       "4           4     bbq_ckn_l  The Barbecue Chicken Pizza         Red Onions   \n",
       "\n",
       "   Items_Qty_In_Grams  \n",
       "0               40.00  \n",
       "1               15.00  \n",
       "2               20.00  \n",
       "3               30.00  \n",
       "4               60.00  "
      ]
     },
     "execution_count": 257,
     "metadata": {},
     "output_type": "execute_result"
    }
   ],
   "source": [
    "ing_data.head()"
   ]
  },
  {
   "cell_type": "code",
   "execution_count": 259,
   "id": "fc8d4ebb-17d3-486a-a608-ff78e26b4dae",
   "metadata": {},
   "outputs": [
    {
     "data": {
      "text/html": [
       "<div>\n",
       "<style scoped>\n",
       "    .dataframe tbody tr th:only-of-type {\n",
       "        vertical-align: middle;\n",
       "    }\n",
       "\n",
       "    .dataframe tbody tr th {\n",
       "        vertical-align: top;\n",
       "    }\n",
       "\n",
       "    .dataframe thead th {\n",
       "        text-align: right;\n",
       "    }\n",
       "</style>\n",
       "<table border=\"1\" class=\"dataframe\">\n",
       "  <thead>\n",
       "    <tr style=\"text-align: right;\">\n",
       "      <th></th>\n",
       "      <th>Unnamed: 0</th>\n",
       "      <th>pizza_name_id</th>\n",
       "      <th>pizza_name</th>\n",
       "      <th>pizza_ingredients</th>\n",
       "      <th>Items_Qty_In_Grams</th>\n",
       "    </tr>\n",
       "  </thead>\n",
       "  <tbody>\n",
       "    <tr>\n",
       "      <th>24</th>\n",
       "      <td>24</td>\n",
       "      <td>brie_carre_s</td>\n",
       "      <td>The Brie Carre Pizza</td>\n",
       "      <td>Caramelized Onions</td>\n",
       "      <td>NaN</td>\n",
       "    </tr>\n",
       "    <tr>\n",
       "      <th>149</th>\n",
       "      <td>149</td>\n",
       "      <td>hawaiian_l</td>\n",
       "      <td>The Hawaiian Pizza</td>\n",
       "      <td>Sliced Ham</td>\n",
       "      <td>NaN</td>\n",
       "    </tr>\n",
       "    <tr>\n",
       "      <th>152</th>\n",
       "      <td>152</td>\n",
       "      <td>hawaiian_m</td>\n",
       "      <td>The Hawaiian Pizza</td>\n",
       "      <td>Sliced Ham</td>\n",
       "      <td>NaN</td>\n",
       "    </tr>\n",
       "    <tr>\n",
       "      <th>155</th>\n",
       "      <td>155</td>\n",
       "      <td>hawaiian_s</td>\n",
       "      <td>The Hawaiian Pizza</td>\n",
       "      <td>Sliced Ham</td>\n",
       "      <td>NaN</td>\n",
       "    </tr>\n",
       "  </tbody>\n",
       "</table>\n",
       "</div>"
      ],
      "text/plain": [
       "     Unnamed: 0 pizza_name_id            pizza_name   pizza_ingredients  \\\n",
       "24           24  brie_carre_s  The Brie Carre Pizza  Caramelized Onions   \n",
       "149         149    hawaiian_l    The Hawaiian Pizza          Sliced Ham   \n",
       "152         152    hawaiian_m    The Hawaiian Pizza          Sliced Ham   \n",
       "155         155    hawaiian_s    The Hawaiian Pizza          Sliced Ham   \n",
       "\n",
       "     Items_Qty_In_Grams  \n",
       "24                  NaN  \n",
       "149                 NaN  \n",
       "152                 NaN  \n",
       "155                 NaN  "
      ]
     },
     "execution_count": 259,
     "metadata": {},
     "output_type": "execute_result"
    }
   ],
   "source": [
    "ing_data[ing_data['Items_Qty_In_Grams'].isna()].head()"
   ]
  },
  {
   "cell_type": "code",
   "execution_count": 189,
   "id": "9cef5ee9-04a1-4b7b-8b6a-b12dfbf4bcf9",
   "metadata": {},
   "outputs": [],
   "source": [
    "#filling Items_Qty_In_Grams with mean of item_qty"
   ]
  },
  {
   "cell_type": "code",
   "execution_count": 261,
   "id": "565b6b3c-b61c-48ef-9ed8-1bbc682e1c18",
   "metadata": {},
   "outputs": [],
   "source": [
    "mean_qty = ing_data.groupby('pizza_name_id')['Items_Qty_In_Grams'].mean()\n"
   ]
  },
  {
   "cell_type": "code",
   "execution_count": 263,
   "id": "38a7de8c-f2b1-4d93-9743-93825df610f6",
   "metadata": {},
   "outputs": [
    {
     "data": {
      "text/plain": [
       "pizza_name_id\n",
       "bbq_ckn_l       30.00\n",
       "bbq_ckn_m       20.83\n",
       "bbq_ckn_s       13.33\n",
       "big_meat_s      65.00\n",
       "brie_carre_s    16.00\n",
       "                 ... \n",
       "the_greek_xl    61.67\n",
       "the_greek_xxl   80.00\n",
       "veggie_veg_l    34.38\n",
       "veggie_veg_m    23.12\n",
       "veggie_veg_s    13.12\n",
       "Name: Items_Qty_In_Grams, Length: 91, dtype: float64"
      ]
     },
     "execution_count": 263,
     "metadata": {},
     "output_type": "execute_result"
    }
   ],
   "source": [
    "mean_qty"
   ]
  },
  {
   "cell_type": "code",
   "execution_count": 267,
   "id": "7163e556-066c-4232-92be-c84183d35b5f",
   "metadata": {},
   "outputs": [],
   "source": [
    "ing_data['Items_Qty_In_Grams'] = ing_data['Items_Qty_In_Grams'].fillna(ing_data['pizza_name_id'].map(mean_qty))"
   ]
  },
  {
   "cell_type": "code",
   "execution_count": 269,
   "id": "ca22ff2b-6720-4df5-9458-2c3ff8eb6817",
   "metadata": {},
   "outputs": [
    {
     "data": {
      "text/plain": [
       "Unnamed: 0            0\n",
       "pizza_name_id         0\n",
       "pizza_name            0\n",
       "pizza_ingredients     0\n",
       "Items_Qty_In_Grams    0\n",
       "dtype: int64"
      ]
     },
     "execution_count": 269,
     "metadata": {},
     "output_type": "execute_result"
    }
   ],
   "source": [
    "ing_data.isnull().sum()"
   ]
  },
  {
   "cell_type": "code",
   "execution_count": null,
   "id": "dad796e5-c7fb-447e-8437-c150b6eb725a",
   "metadata": {},
   "outputs": [],
   "source": [
    "#converting datatype"
   ]
  },
  {
   "cell_type": "code",
   "execution_count": 271,
   "id": "ca6430ea-cb10-496c-a8ac-8096778db1e5",
   "metadata": {},
   "outputs": [],
   "source": [
    "def parse_dates(date):\n",
    "      return pd.to_datetime(date)  "
   ]
  },
  {
   "cell_type": "code",
   "execution_count": 273,
   "id": "d3eafb66-0d82-4e22-9a5b-166e9456b2f3",
   "metadata": {},
   "outputs": [],
   "source": [
    "sales_data['order_date'] = sales_data['order_date'].apply(parse_dates)"
   ]
  },
  {
   "cell_type": "code",
   "execution_count": 115,
   "id": "e4e3ff89-9359-4e67-a3bd-35393e1b13cd",
   "metadata": {},
   "outputs": [
    {
     "data": {
      "text/plain": [
       "0   2015-01-01\n",
       "1   2015-01-01\n",
       "2   2015-01-01\n",
       "3   2015-01-01\n",
       "6   2015-01-01\n",
       "Name: order_date, dtype: datetime64[ns]"
      ]
     },
     "execution_count": 115,
     "metadata": {},
     "output_type": "execute_result"
    }
   ],
   "source": [
    "sales_data['order_date'].head()"
   ]
  },
  {
   "cell_type": "markdown",
   "id": "67efb2c3-c199-4522-8cff-12b7b532318d",
   "metadata": {},
   "source": [
    "## Feature engineering"
   ]
  },
  {
   "cell_type": "markdown",
   "id": "a6e02f33-95d5-4045-8c92-1ffd53fe8be0",
   "metadata": {},
   "source": [
    "## adding holiday indicator"
   ]
  },
  {
   "cell_type": "code",
   "execution_count": 115,
   "id": "5dcac7a0-ced6-44d4-9001-2ad1aba43d45",
   "metadata": {},
   "outputs": [
    {
     "name": "stdout",
     "output_type": "stream",
     "text": [
      "Collecting holidays\n",
      "  Downloading holidays-0.73-py3-none-any.whl.metadata (38 kB)\n",
      "Requirement already satisfied: python-dateutil in c:\\users\\rupsh\\anaconda3\\lib\\site-packages (from holidays) (2.9.0.post0)\n",
      "Requirement already satisfied: six>=1.5 in c:\\users\\rupsh\\anaconda3\\lib\\site-packages (from python-dateutil->holidays) (1.16.0)\n",
      "Downloading holidays-0.73-py3-none-any.whl (954 kB)\n",
      "   ---------------------------------------- 0.0/954.8 kB ? eta -:--:--\n",
      "   ---------------------------------------- 0.0/954.8 kB ? eta -:--:--\n",
      "   ---------------------------------------- 0.0/954.8 kB ? eta -:--:--\n",
      "   ---------------------------------------- 0.0/954.8 kB ? eta -:--:--\n",
      "   ---------------------------------------- 0.0/954.8 kB ? eta -:--:--\n",
      "   ---------- ----------------------------- 262.1/954.8 kB ? eta -:--:--\n",
      "   ---------- ----------------------------- 262.1/954.8 kB ? eta -:--:--\n",
      "   ---------- ----------------------------- 262.1/954.8 kB ? eta -:--:--\n",
      "   -------------------- ----------------- 524.3/954.8 kB 409.6 kB/s eta 0:00:02\n",
      "   -------------------- ----------------- 524.3/954.8 kB 409.6 kB/s eta 0:00:02\n",
      "   -------------------- ----------------- 524.3/954.8 kB 409.6 kB/s eta 0:00:02\n",
      "   ------------------------------- ------ 786.4/954.8 kB 453.5 kB/s eta 0:00:01\n",
      "   -------------------------------------- 954.8/954.8 kB 466.8 kB/s eta 0:00:00\n",
      "Installing collected packages: holidays\n",
      "Successfully installed holidays-0.73\n",
      "Note: you may need to restart the kernel to use updated packages.\n"
     ]
    }
   ],
   "source": [
    "pip install holidays"
   ]
  },
  {
   "cell_type": "code",
   "execution_count": 275,
   "id": "94404baa-2173-4c79-b661-bc0a616e0c9e",
   "metadata": {},
   "outputs": [],
   "source": [
    "import holidays"
   ]
  },
  {
   "cell_type": "code",
   "execution_count": 277,
   "id": "68f79397-92b9-4f65-b642-bee7c42fb916",
   "metadata": {},
   "outputs": [],
   "source": [
    "us_holidays = holidays.US()"
   ]
  },
  {
   "cell_type": "code",
   "execution_count": null,
   "id": "6a3dc59f-0b82-44dc-ba5a-fa3f0923e5ff",
   "metadata": {},
   "outputs": [],
   "source": [
    "#creating holiday column in dataframe"
   ]
  },
  {
   "cell_type": "code",
   "execution_count": 279,
   "id": "a304e05f-349a-40f9-be0b-af1c8a2846d4",
   "metadata": {},
   "outputs": [],
   "source": [
    "sales_data['holidays'] = sales_data['order_date'].apply(lambda x:1 if x in us_holidays else 0)"
   ]
  },
  {
   "cell_type": "code",
   "execution_count": null,
   "id": "153a70e0-b231-4158-81b4-95255e079436",
   "metadata": {},
   "outputs": [],
   "source": [
    "# checking whether holiday indicator working"
   ]
  },
  {
   "cell_type": "code",
   "execution_count": 281,
   "id": "74474333-bd2f-4aae-8d1a-adcdaf4f371f",
   "metadata": {},
   "outputs": [
    {
     "data": {
      "text/html": [
       "<div>\n",
       "<style scoped>\n",
       "    .dataframe tbody tr th:only-of-type {\n",
       "        vertical-align: middle;\n",
       "    }\n",
       "\n",
       "    .dataframe tbody tr th {\n",
       "        vertical-align: top;\n",
       "    }\n",
       "\n",
       "    .dataframe thead th {\n",
       "        text-align: right;\n",
       "    }\n",
       "</style>\n",
       "<table border=\"1\" class=\"dataframe\">\n",
       "  <thead>\n",
       "    <tr style=\"text-align: right;\">\n",
       "      <th></th>\n",
       "      <th>order_date</th>\n",
       "      <th>holidays</th>\n",
       "    </tr>\n",
       "  </thead>\n",
       "  <tbody>\n",
       "    <tr>\n",
       "      <th>0</th>\n",
       "      <td>2015-01-01</td>\n",
       "      <td>1</td>\n",
       "    </tr>\n",
       "    <tr>\n",
       "      <th>1</th>\n",
       "      <td>2015-01-01</td>\n",
       "      <td>1</td>\n",
       "    </tr>\n",
       "    <tr>\n",
       "      <th>2</th>\n",
       "      <td>2015-01-01</td>\n",
       "      <td>1</td>\n",
       "    </tr>\n",
       "    <tr>\n",
       "      <th>3</th>\n",
       "      <td>2015-01-01</td>\n",
       "      <td>1</td>\n",
       "    </tr>\n",
       "    <tr>\n",
       "      <th>4</th>\n",
       "      <td>2015-01-01</td>\n",
       "      <td>1</td>\n",
       "    </tr>\n",
       "    <tr>\n",
       "      <th>...</th>\n",
       "      <td>...</td>\n",
       "      <td>...</td>\n",
       "    </tr>\n",
       "    <tr>\n",
       "      <th>48615</th>\n",
       "      <td>2015-12-31</td>\n",
       "      <td>0</td>\n",
       "    </tr>\n",
       "    <tr>\n",
       "      <th>48616</th>\n",
       "      <td>2015-12-31</td>\n",
       "      <td>0</td>\n",
       "    </tr>\n",
       "    <tr>\n",
       "      <th>48617</th>\n",
       "      <td>2015-12-31</td>\n",
       "      <td>0</td>\n",
       "    </tr>\n",
       "    <tr>\n",
       "      <th>48618</th>\n",
       "      <td>2015-12-31</td>\n",
       "      <td>0</td>\n",
       "    </tr>\n",
       "    <tr>\n",
       "      <th>48619</th>\n",
       "      <td>2015-12-31</td>\n",
       "      <td>0</td>\n",
       "    </tr>\n",
       "  </tbody>\n",
       "</table>\n",
       "<p>48620 rows × 2 columns</p>\n",
       "</div>"
      ],
      "text/plain": [
       "      order_date  holidays\n",
       "0     2015-01-01         1\n",
       "1     2015-01-01         1\n",
       "2     2015-01-01         1\n",
       "3     2015-01-01         1\n",
       "4     2015-01-01         1\n",
       "...          ...       ...\n",
       "48615 2015-12-31         0\n",
       "48616 2015-12-31         0\n",
       "48617 2015-12-31         0\n",
       "48618 2015-12-31         0\n",
       "48619 2015-12-31         0\n",
       "\n",
       "[48620 rows x 2 columns]"
      ]
     },
     "execution_count": 281,
     "metadata": {},
     "output_type": "execute_result"
    }
   ],
   "source": [
    "sales_data[['order_date','holidays']]"
   ]
  },
  {
   "cell_type": "markdown",
   "id": "14dc1ae4-e6fc-4eef-9345-766ac402c905",
   "metadata": {},
   "source": [
    "## adding weekend promotions"
   ]
  },
  {
   "cell_type": "code",
   "execution_count": null,
   "id": "d87d1751-23b7-44cc-90b9-2e779e43efc3",
   "metadata": {},
   "outputs": [],
   "source": [
    "# creating promotional_periods for weekends "
   ]
  },
  {
   "cell_type": "code",
   "execution_count": 283,
   "id": "e9e9fb76-9dda-4fe4-b2cc-8ac7ac508d9e",
   "metadata": {},
   "outputs": [],
   "source": [
    "sales_data['promotions'] = sales_data['order_date'].dt.weekday.apply(lambda x:1 if x>=5 else 0)"
   ]
  },
  {
   "cell_type": "code",
   "execution_count": null,
   "id": "65b95081-2272-459e-86f3-b39b290ba3ed",
   "metadata": {},
   "outputs": [],
   "source": [
    "# cheking whether promotion working"
   ]
  },
  {
   "cell_type": "code",
   "execution_count": 285,
   "id": "356e404e-27d4-44cc-9c9d-7d39ab63a343",
   "metadata": {},
   "outputs": [
    {
     "data": {
      "text/html": [
       "<div>\n",
       "<style scoped>\n",
       "    .dataframe tbody tr th:only-of-type {\n",
       "        vertical-align: middle;\n",
       "    }\n",
       "\n",
       "    .dataframe tbody tr th {\n",
       "        vertical-align: top;\n",
       "    }\n",
       "\n",
       "    .dataframe thead th {\n",
       "        text-align: right;\n",
       "    }\n",
       "</style>\n",
       "<table border=\"1\" class=\"dataframe\">\n",
       "  <thead>\n",
       "    <tr style=\"text-align: right;\">\n",
       "      <th></th>\n",
       "      <th>order_date</th>\n",
       "      <th>promotions</th>\n",
       "    </tr>\n",
       "  </thead>\n",
       "  <tbody>\n",
       "    <tr>\n",
       "      <th>0</th>\n",
       "      <td>2015-01-01</td>\n",
       "      <td>0</td>\n",
       "    </tr>\n",
       "    <tr>\n",
       "      <th>1</th>\n",
       "      <td>2015-01-01</td>\n",
       "      <td>0</td>\n",
       "    </tr>\n",
       "    <tr>\n",
       "      <th>2</th>\n",
       "      <td>2015-01-01</td>\n",
       "      <td>0</td>\n",
       "    </tr>\n",
       "    <tr>\n",
       "      <th>3</th>\n",
       "      <td>2015-01-01</td>\n",
       "      <td>0</td>\n",
       "    </tr>\n",
       "    <tr>\n",
       "      <th>4</th>\n",
       "      <td>2015-01-01</td>\n",
       "      <td>0</td>\n",
       "    </tr>\n",
       "  </tbody>\n",
       "</table>\n",
       "</div>"
      ],
      "text/plain": [
       "  order_date  promotions\n",
       "0 2015-01-01           0\n",
       "1 2015-01-01           0\n",
       "2 2015-01-01           0\n",
       "3 2015-01-01           0\n",
       "4 2015-01-01           0"
      ]
     },
     "execution_count": 285,
     "metadata": {},
     "output_type": "execute_result"
    }
   ],
   "source": [
    "sales_data[['order_date','promotions']].head()"
   ]
  },
  {
   "cell_type": "code",
   "execution_count": 287,
   "id": "036b55a0-bf44-47aa-bbe4-456e91cf042e",
   "metadata": {},
   "outputs": [
    {
     "data": {
      "text/html": [
       "<div>\n",
       "<style scoped>\n",
       "    .dataframe tbody tr th:only-of-type {\n",
       "        vertical-align: middle;\n",
       "    }\n",
       "\n",
       "    .dataframe tbody tr th {\n",
       "        vertical-align: top;\n",
       "    }\n",
       "\n",
       "    .dataframe thead th {\n",
       "        text-align: right;\n",
       "    }\n",
       "</style>\n",
       "<table border=\"1\" class=\"dataframe\">\n",
       "  <thead>\n",
       "    <tr style=\"text-align: right;\">\n",
       "      <th></th>\n",
       "      <th>order_date</th>\n",
       "      <th>promotions</th>\n",
       "    </tr>\n",
       "  </thead>\n",
       "  <tbody>\n",
       "    <tr>\n",
       "      <th>161</th>\n",
       "      <td>2015-02-01</td>\n",
       "      <td>1</td>\n",
       "    </tr>\n",
       "    <tr>\n",
       "      <th>162</th>\n",
       "      <td>2015-02-01</td>\n",
       "      <td>1</td>\n",
       "    </tr>\n",
       "    <tr>\n",
       "      <th>163</th>\n",
       "      <td>2015-02-01</td>\n",
       "      <td>1</td>\n",
       "    </tr>\n",
       "    <tr>\n",
       "      <th>164</th>\n",
       "      <td>2015-02-01</td>\n",
       "      <td>1</td>\n",
       "    </tr>\n",
       "    <tr>\n",
       "      <th>165</th>\n",
       "      <td>2015-02-01</td>\n",
       "      <td>1</td>\n",
       "    </tr>\n",
       "  </tbody>\n",
       "</table>\n",
       "</div>"
      ],
      "text/plain": [
       "    order_date  promotions\n",
       "161 2015-02-01           1\n",
       "162 2015-02-01           1\n",
       "163 2015-02-01           1\n",
       "164 2015-02-01           1\n",
       "165 2015-02-01           1"
      ]
     },
     "execution_count": 287,
     "metadata": {},
     "output_type": "execute_result"
    }
   ],
   "source": [
    "sales_data[sales_data['promotions'] == 1] [['order_date','promotions']].head()"
   ]
  },
  {
   "cell_type": "code",
   "execution_count": null,
   "id": "497b037a-e00f-428e-af7d-82b84f24202e",
   "metadata": {},
   "outputs": [],
   "source": [
    "#aggregating sales data by date"
   ]
  },
  {
   "cell_type": "code",
   "execution_count": 289,
   "id": "88b29ae8-b9da-4443-b158-9b1a56ca0c36",
   "metadata": {},
   "outputs": [],
   "source": [
    "daily_sales = sales_data.groupby('order_date')['quantity'].sum().reset_index()"
   ]
  },
  {
   "cell_type": "code",
   "execution_count": 291,
   "id": "03afcdc1-8087-445a-af3c-2753e847a908",
   "metadata": {},
   "outputs": [
    {
     "data": {
      "text/html": [
       "<div>\n",
       "<style scoped>\n",
       "    .dataframe tbody tr th:only-of-type {\n",
       "        vertical-align: middle;\n",
       "    }\n",
       "\n",
       "    .dataframe tbody tr th {\n",
       "        vertical-align: top;\n",
       "    }\n",
       "\n",
       "    .dataframe thead th {\n",
       "        text-align: right;\n",
       "    }\n",
       "</style>\n",
       "<table border=\"1\" class=\"dataframe\">\n",
       "  <thead>\n",
       "    <tr style=\"text-align: right;\">\n",
       "      <th></th>\n",
       "      <th>order_date</th>\n",
       "      <th>quantity</th>\n",
       "    </tr>\n",
       "  </thead>\n",
       "  <tbody>\n",
       "    <tr>\n",
       "      <th>0</th>\n",
       "      <td>2015-01-01</td>\n",
       "      <td>162</td>\n",
       "    </tr>\n",
       "    <tr>\n",
       "      <th>1</th>\n",
       "      <td>2015-01-02</td>\n",
       "      <td>191</td>\n",
       "    </tr>\n",
       "    <tr>\n",
       "      <th>2</th>\n",
       "      <td>2015-01-03</td>\n",
       "      <td>99</td>\n",
       "    </tr>\n",
       "    <tr>\n",
       "      <th>3</th>\n",
       "      <td>2015-01-04</td>\n",
       "      <td>135</td>\n",
       "    </tr>\n",
       "    <tr>\n",
       "      <th>4</th>\n",
       "      <td>2015-01-05</td>\n",
       "      <td>154</td>\n",
       "    </tr>\n",
       "    <tr>\n",
       "      <th>...</th>\n",
       "      <td>...</td>\n",
       "      <td>...</td>\n",
       "    </tr>\n",
       "    <tr>\n",
       "      <th>353</th>\n",
       "      <td>2015-12-27</td>\n",
       "      <td>89</td>\n",
       "    </tr>\n",
       "    <tr>\n",
       "      <th>354</th>\n",
       "      <td>2015-12-28</td>\n",
       "      <td>102</td>\n",
       "    </tr>\n",
       "    <tr>\n",
       "      <th>355</th>\n",
       "      <td>2015-12-29</td>\n",
       "      <td>80</td>\n",
       "    </tr>\n",
       "    <tr>\n",
       "      <th>356</th>\n",
       "      <td>2015-12-30</td>\n",
       "      <td>82</td>\n",
       "    </tr>\n",
       "    <tr>\n",
       "      <th>357</th>\n",
       "      <td>2015-12-31</td>\n",
       "      <td>178</td>\n",
       "    </tr>\n",
       "  </tbody>\n",
       "</table>\n",
       "<p>358 rows × 2 columns</p>\n",
       "</div>"
      ],
      "text/plain": [
       "    order_date  quantity\n",
       "0   2015-01-01       162\n",
       "1   2015-01-02       191\n",
       "2   2015-01-03        99\n",
       "3   2015-01-04       135\n",
       "4   2015-01-05       154\n",
       "..         ...       ...\n",
       "353 2015-12-27        89\n",
       "354 2015-12-28       102\n",
       "355 2015-12-29        80\n",
       "356 2015-12-30        82\n",
       "357 2015-12-31       178\n",
       "\n",
       "[358 rows x 2 columns]"
      ]
     },
     "execution_count": 291,
     "metadata": {},
     "output_type": "execute_result"
    }
   ],
   "source": [
    "daily_sales"
   ]
  },
  {
   "cell_type": "markdown",
   "id": "a545a3b2-d53e-43d2-9a16-2573cbd4fcf1",
   "metadata": {},
   "source": [
    "### exploratory data analysis"
   ]
  },
  {
   "cell_type": "code",
   "execution_count": null,
   "id": "79d636f1-5f25-40ce-b906-31eea2d0dbef",
   "metadata": {},
   "outputs": [],
   "source": [
    "#analyzing sales trend over time"
   ]
  },
  {
   "cell_type": "code",
   "execution_count": 293,
   "id": "b9617739-95a6-4c91-85ea-a074f44bdf43",
   "metadata": {},
   "outputs": [
    {
     "data": {
      "text/plain": [
       "Index(['Unnamed: 0', 'pizza_id', 'order_id', 'pizza_name_id', 'quantity',\n",
       "       'order_date', 'order_time', 'unit_price', 'total_price', 'pizza_size',\n",
       "       'pizza_category', 'pizza_ingredients', 'pizza_name', 'holidays',\n",
       "       'promotions'],\n",
       "      dtype='object')"
      ]
     },
     "execution_count": 293,
     "metadata": {},
     "output_type": "execute_result"
    }
   ],
   "source": [
    "sales_data.columns"
   ]
  },
  {
   "cell_type": "code",
   "execution_count": 295,
   "id": "7d2e396f-4e3f-4cc0-ad73-11b9fe9e9f12",
   "metadata": {},
   "outputs": [],
   "source": [
    "sales_data.drop('Unnamed: 0',inplace=True,axis=1)"
   ]
  },
  {
   "cell_type": "code",
   "execution_count": 303,
   "id": "853db0ee-3714-462e-ab51-1723037c994c",
   "metadata": {},
   "outputs": [
    {
     "data": {
      "text/plain": [
       "<Figure size 1800x700 with 0 Axes>"
      ]
     },
     "metadata": {},
     "output_type": "display_data"
    },
    {
     "data": {
      "image/png": "[encoded data removed]",
      "text/plain": [
       "<Figure size 1800x600 with 1 Axes>"
      ]
     },
     "metadata": {},
     "output_type": "display_data"
    }
   ],
   "source": [
    "daily_sales = sales_data.groupby('order_date').agg({'quantity': 'sum'})\n",
    "# Create the plot\n",
    "plt.figure(figsize=(18, 6))\n",
    "plt.plot(daily_sales.index, daily_sales.values)\n",
    "plt.xlabel('Order Date')\n",
    "plt.ylabel('Quantity Sold')\n",
    "plt.title('Quantity Sold Over Time')\n",
    "plt.grid(True)\n",
    "plt.show()"
   ]
  },
  {
   "cell_type": "code",
   "execution_count": 305,
   "id": "7117dcef-02fe-42fe-9c22-92d110c681d6",
   "metadata": {},
   "outputs": [
    {
     "data": {
      "image/png": "[encoded data removed]",
      "text/plain": [
       "<Figure size 1000x800 with 9 Axes>"
      ]
     },
     "metadata": {},
     "output_type": "display_data"
    }
   ],
   "source": [
    "sales_data.hist(figsize=(10,8))\n",
    "plt.show()"
   ]
  },
  {
   "cell_type": "code",
   "execution_count": 93,
   "id": "b8fb5285-a179-42df-94ac-37aa2bdcfea2",
   "metadata": {},
   "outputs": [],
   "source": [
    "top_pizza = sel_mon.sort_values('quantity',ascending=False).head(7)"
   ]
  },
  {
   "cell_type": "code",
   "execution_count": 97,
   "id": "7dde2ef9-4e5b-49ef-a1d9-3e44a76f09dd",
   "metadata": {},
   "outputs": [
    {
     "data": {
      "text/html": [
       "<div>\n",
       "<style scoped>\n",
       "    .dataframe tbody tr th:only-of-type {\n",
       "        vertical-align: middle;\n",
       "    }\n",
       "\n",
       "    .dataframe tbody tr th {\n",
       "        vertical-align: top;\n",
       "    }\n",
       "\n",
       "    .dataframe thead th {\n",
       "        text-align: right;\n",
       "    }\n",
       "</style>\n",
       "<table border=\"1\" class=\"dataframe\">\n",
       "  <thead>\n",
       "    <tr style=\"text-align: right;\">\n",
       "      <th></th>\n",
       "      <th>quantity</th>\n",
       "    </tr>\n",
       "    <tr>\n",
       "      <th>pizza_name</th>\n",
       "      <th></th>\n",
       "    </tr>\n",
       "  </thead>\n",
       "  <tbody>\n",
       "    <tr>\n",
       "      <th>The Barbecue Chicken Pizza</th>\n",
       "      <td>224</td>\n",
       "    </tr>\n",
       "    <tr>\n",
       "      <th>The Pepperoni Pizza</th>\n",
       "      <td>224</td>\n",
       "    </tr>\n",
       "    <tr>\n",
       "      <th>The Classic Deluxe Pizza</th>\n",
       "      <td>204</td>\n",
       "    </tr>\n",
       "    <tr>\n",
       "      <th>The California Chicken Pizza</th>\n",
       "      <td>203</td>\n",
       "    </tr>\n",
       "    <tr>\n",
       "      <th>The Thai Chicken Pizza</th>\n",
       "      <td>194</td>\n",
       "    </tr>\n",
       "    <tr>\n",
       "      <th>The Hawaiian Pizza</th>\n",
       "      <td>189</td>\n",
       "    </tr>\n",
       "    <tr>\n",
       "      <th>The Sicilian Pizza</th>\n",
       "      <td>184</td>\n",
       "    </tr>\n",
       "  </tbody>\n",
       "</table>\n",
       "</div>"
      ],
      "text/plain": [
       "                              quantity\n",
       "pizza_name                            \n",
       "The Barbecue Chicken Pizza         224\n",
       "The Pepperoni Pizza                224\n",
       "The Classic Deluxe Pizza           204\n",
       "The California Chicken Pizza       203\n",
       "The Thai Chicken Pizza             194\n",
       "The Hawaiian Pizza                 189\n",
       "The Sicilian Pizza                 184"
      ]
     },
     "execution_count": 97,
     "metadata": {},
     "output_type": "execute_result"
    }
   ],
   "source": [
    "top_pizza"
   ]
  },
  {
   "cell_type": "code",
   "execution_count": 95,
   "id": "5ee93ab3-4e45-4a90-8f48-ac3ca3d69e90",
   "metadata": {},
   "outputs": [
    {
     "data": {
      "image/png": "[encoded data removed]",
      "text/plain": [
       "<Figure size 1400x500 with 1 Axes>"
      ]
     },
     "metadata": {},
     "output_type": "display_data"
    }
   ],
   "source": [
    "sns.set_style('darkgrid')\n",
    "\n",
    "plt.figure(figsize=(14, 5))\n",
    "\n",
    "sns.barplot(data = top_pizza, x = 'pizza_name', y = 'quantity' )\n",
    "\n",
    "plt.show()"
   ]
  },
  {
   "cell_type": "code",
   "execution_count": 158,
   "id": "25e44729-4ab3-4617-8961-47dafdb95e6c",
   "metadata": {},
   "outputs": [],
   "source": [
    "#sales by pizza size and category"
   ]
  },
  {
   "cell_type": "code",
   "execution_count": 160,
   "id": "4d7c78f0-25aa-4e01-a09a-c4bfd2f2531e",
   "metadata": {},
   "outputs": [
    {
     "data": {
      "text/plain": [
       "Index(['pizza_id', 'order_id', 'pizza_name_id', 'quantity', 'order_date',\n",
       "       'order_time', 'unit_price', 'total_price', 'pizza_size',\n",
       "       'pizza_category', 'pizza_ingredients', 'pizza_name',\n",
       "       'Items_Qty_In_Grams', 'day_of_week', 'month_name', 'week_number',\n",
       "       'Year', 'holidays', 'promotions'],\n",
       "      dtype='object')"
      ]
     },
     "execution_count": 160,
     "metadata": {},
     "output_type": "execute_result"
    }
   ],
   "source": [
    "merge_df.columns"
   ]
  },
  {
   "cell_type": "code",
   "execution_count": 170,
   "id": "8ae96b11-e9df-4aa9-b65e-d956fd5e36e1",
   "metadata": {},
   "outputs": [],
   "source": [
    "size_group = merge_df.groupby('pizza_size')['quantity'].sum().reset_index()"
   ]
  },
  {
   "cell_type": "code",
   "execution_count": 164,
   "id": "8afae258-30ee-4186-aa1c-30b15c582f6c",
   "metadata": {},
   "outputs": [
    {
     "data": {
      "text/html": [
       "<div>\n",
       "<style scoped>\n",
       "    .dataframe tbody tr th:only-of-type {\n",
       "        vertical-align: middle;\n",
       "    }\n",
       "\n",
       "    .dataframe tbody tr th {\n",
       "        vertical-align: top;\n",
       "    }\n",
       "\n",
       "    .dataframe thead th {\n",
       "        text-align: right;\n",
       "    }\n",
       "</style>\n",
       "<table border=\"1\" class=\"dataframe\">\n",
       "  <thead>\n",
       "    <tr style=\"text-align: right;\">\n",
       "      <th></th>\n",
       "      <th>pizza_size</th>\n",
       "      <th>quantity</th>\n",
       "    </tr>\n",
       "  </thead>\n",
       "  <tbody>\n",
       "    <tr>\n",
       "      <th>0</th>\n",
       "      <td>L</td>\n",
       "      <td>76628</td>\n",
       "    </tr>\n",
       "    <tr>\n",
       "      <th>1</th>\n",
       "      <td>M</td>\n",
       "      <td>62158</td>\n",
       "    </tr>\n",
       "    <tr>\n",
       "      <th>2</th>\n",
       "      <td>S</td>\n",
       "      <td>49293</td>\n",
       "    </tr>\n",
       "    <tr>\n",
       "      <th>3</th>\n",
       "      <td>XL</td>\n",
       "      <td>2760</td>\n",
       "    </tr>\n",
       "    <tr>\n",
       "      <th>4</th>\n",
       "      <td>XXL</td>\n",
       "      <td>140</td>\n",
       "    </tr>\n",
       "  </tbody>\n",
       "</table>\n",
       "</div>"
      ],
      "text/plain": [
       "  pizza_size  quantity\n",
       "0          L     76628\n",
       "1          M     62158\n",
       "2          S     49293\n",
       "3         XL      2760\n",
       "4        XXL       140"
      ]
     },
     "execution_count": 164,
     "metadata": {},
     "output_type": "execute_result"
    }
   ],
   "source": [
    "category_group"
   ]
  },
  {
   "cell_type": "code",
   "execution_count": 172,
   "id": "ec051bbd-e6af-444b-beda-25b278f2226e",
   "metadata": {},
   "outputs": [
    {
     "name": "stderr",
     "output_type": "stream",
     "text": [
      "C:\\Users\\rupsh\\AppData\\Local\\Temp\\ipykernel_25192\\2041563222.py:1: FutureWarning: \n",
      "\n",
      "Passing `palette` without assigning `hue` is deprecated and will be removed in v0.14.0. Assign the `x` variable to `hue` and set `legend=False` for the same effect.\n",
      "\n",
      "  sns.barplot(data=size_group,x='pizza_size',y='quantity',palette='coolwarm')\n"
     ]
    },
    {
     "data": {
      "image/png": "[encoded data removed]",
      "text/plain": [
       "<Figure size 640x480 with 1 Axes>"
      ]
     },
     "metadata": {},
     "output_type": "display_data"
    }
   ],
   "source": [
    "sns.barplot(data=size_group,x='pizza_size',y='quantity',palette='coolwarm')\n",
    "plt.title('pizza_size  wise sale')\n",
    "plt.xlabel('size')\n",
    "plt.ylabel('pizza_count')\n",
    "plt.show()"
   ]
  },
  {
   "cell_type": "code",
   "execution_count": null,
   "id": "145a9074-494c-4937-bdfb-73e2d4bdc709",
   "metadata": {},
   "outputs": [],
   "source": [
    "#sales based on category"
   ]
  },
  {
   "cell_type": "code",
   "execution_count": 174,
   "id": "27189fb5-2174-4670-877e-de32c3bb55ac",
   "metadata": {},
   "outputs": [],
   "source": [
    "category_group = merge_df.groupby('pizza_category')['quantity'].sum().reset_index()"
   ]
  },
  {
   "cell_type": "code",
   "execution_count": 178,
   "id": "2543a74b-b17a-4d4c-9e31-99574f283b0d",
   "metadata": {},
   "outputs": [
    {
     "name": "stderr",
     "output_type": "stream",
     "text": [
      "C:\\Users\\rupsh\\AppData\\Local\\Temp\\ipykernel_25192\\1581381560.py:1: FutureWarning: \n",
      "\n",
      "Passing `palette` without assigning `hue` is deprecated and will be removed in v0.14.0. Assign the `x` variable to `hue` and set `legend=False` for the same effect.\n",
      "\n",
      "  sns.barplot(data=category_group,x='pizza_category',y='quantity',palette='coolwarm')\n"
     ]
    },
    {
     "data": {
      "image/png": "[encoded data removed]",
      "text/plain": [
       "<Figure size 640x480 with 1 Axes>"
      ]
     },
     "metadata": {},
     "output_type": "display_data"
    }
   ],
   "source": [
    "sns.barplot(data=category_group,x='pizza_category',y='quantity',palette='coolwarm')\n",
    "plt.title('category wise sale')\n",
    "plt.xlabel('pizza_category')\n",
    "plt.ylabel('pizza_count')\n",
    "plt.show()"
   ]
  },
  {
   "cell_type": "code",
   "execution_count": null,
   "id": "f3c564e3-d7a9-414c-9b71-f6442c161a93",
   "metadata": {},
   "outputs": [],
   "source": [
    "# seasonal sales trends and patterns"
   ]
  },
  {
   "cell_type": "code",
   "execution_count": 180,
   "id": "6efa82e4-e620-49dc-8a97-1a7bd5a50fe0",
   "metadata": {},
   "outputs": [],
   "source": [
    "sales_by_day = merge_df.groupby('day_of_week')['total_price'].sum().reset_index()"
   ]
  },
  {
   "cell_type": "code",
   "execution_count": 182,
   "id": "8f02a868-a4d2-488c-ae09-98aa4819ccbd",
   "metadata": {},
   "outputs": [
    {
     "data": {
      "text/html": [
       "<div>\n",
       "<style scoped>\n",
       "    .dataframe tbody tr th:only-of-type {\n",
       "        vertical-align: middle;\n",
       "    }\n",
       "\n",
       "    .dataframe tbody tr th {\n",
       "        vertical-align: top;\n",
       "    }\n",
       "\n",
       "    .dataframe thead th {\n",
       "        text-align: right;\n",
       "    }\n",
       "</style>\n",
       "<table border=\"1\" class=\"dataframe\">\n",
       "  <thead>\n",
       "    <tr style=\"text-align: right;\">\n",
       "      <th></th>\n",
       "      <th>day_of_week</th>\n",
       "      <th>total_price</th>\n",
       "    </tr>\n",
       "  </thead>\n",
       "  <tbody>\n",
       "    <tr>\n",
       "      <th>0</th>\n",
       "      <td>0</td>\n",
       "      <td>437542.10</td>\n",
       "    </tr>\n",
       "    <tr>\n",
       "      <th>1</th>\n",
       "      <td>1</td>\n",
       "      <td>454238.80</td>\n",
       "    </tr>\n",
       "    <tr>\n",
       "      <th>2</th>\n",
       "      <td>2</td>\n",
       "      <td>460956.50</td>\n",
       "    </tr>\n",
       "    <tr>\n",
       "      <th>3</th>\n",
       "      <td>3</td>\n",
       "      <td>481875.80</td>\n",
       "    </tr>\n",
       "    <tr>\n",
       "      <th>4</th>\n",
       "      <td>4</td>\n",
       "      <td>512280.90</td>\n",
       "    </tr>\n",
       "    <tr>\n",
       "      <th>5</th>\n",
       "      <td>5</td>\n",
       "      <td>482354.20</td>\n",
       "    </tr>\n",
       "    <tr>\n",
       "      <th>6</th>\n",
       "      <td>6</td>\n",
       "      <td>401952.45</td>\n",
       "    </tr>\n",
       "  </tbody>\n",
       "</table>\n",
       "</div>"
      ],
      "text/plain": [
       "   day_of_week  total_price\n",
       "0            0    437542.10\n",
       "1            1    454238.80\n",
       "2            2    460956.50\n",
       "3            3    481875.80\n",
       "4            4    512280.90\n",
       "5            5    482354.20\n",
       "6            6    401952.45"
      ]
     },
     "execution_count": 182,
     "metadata": {},
     "output_type": "execute_result"
    }
   ],
   "source": [
    "sales_by_day"
   ]
  },
  {
   "cell_type": "code",
   "execution_count": 184,
   "id": "1bb9346a-410e-4367-8951-c992703b3172",
   "metadata": {},
   "outputs": [
    {
     "name": "stderr",
     "output_type": "stream",
     "text": [
      "C:\\Users\\rupsh\\AppData\\Local\\Temp\\ipykernel_25192\\985218702.py:2: FutureWarning: \n",
      "\n",
      "Passing `palette` without assigning `hue` is deprecated and will be removed in v0.14.0. Assign the `x` variable to `hue` and set `legend=False` for the same effect.\n",
      "\n",
      "  sns.barplot(data=sales_by_day, x='day_of_week', y='total_price', palette='viridis')\n"
     ]
    },
    {
     "data": {
      "image/png": "[encoded data removed]",
      "text/plain": [
       "<Figure size 1000x500 with 1 Axes>"
      ]
     },
     "metadata": {},
     "output_type": "display_data"
    }
   ],
   "source": [
    "plt.figure(figsize=(10,5))\n",
    "sns.barplot(data=sales_by_day, x='day_of_week', y='total_price', palette='viridis')\n",
    "plt.title('Sales by Day of the Week')\n",
    "plt.xlabel('Day of the Week')\n",
    "plt.ylabel('Total Sales')\n",
    "plt.show()"
   ]
  },
  {
   "cell_type": "code",
   "execution_count": null,
   "id": "e8c44b6f-ea53-4f99-9741-993eae01ae41",
   "metadata": {},
   "outputs": [],
   "source": [
    "#sales by month"
   ]
  },
  {
   "cell_type": "code",
   "execution_count": 188,
   "id": "6c778705-b10b-4c0a-894f-a84f0c32e962",
   "metadata": {},
   "outputs": [],
   "source": [
    "sales_by_month = merge_df.groupby('month_name')['total_price'].sum().reset_index()"
   ]
  },
  {
   "cell_type": "code",
   "execution_count": 194,
   "id": "f7bb0b30-54ee-4a57-b00a-8e91dfc79348",
   "metadata": {},
   "outputs": [
    {
     "name": "stderr",
     "output_type": "stream",
     "text": [
      "C:\\Users\\rupsh\\AppData\\Local\\Temp\\ipykernel_25192\\1223958851.py:2: FutureWarning: \n",
      "\n",
      "Passing `palette` without assigning `hue` is deprecated and will be removed in v0.14.0. Assign the `x` variable to `hue` and set `legend=False` for the same effect.\n",
      "\n",
      "  sns.barplot(data=sales_by_month, x='month_name', y='total_price', palette='magma')\n"
     ]
    },
    {
     "data": {
      "image/png": "[encoded data removed]",
      "text/plain": [
       "<Figure size 1000x500 with 1 Axes>"
      ]
     },
     "metadata": {},
     "output_type": "display_data"
    }
   ],
   "source": [
    "plt.figure(figsize=(10,5))\n",
    "sns.barplot(data=sales_by_month, x='month_name', y='total_price', palette='magma')\n",
    "plt.title('Sales by month')\n",
    "plt.xlabel('month')\n",
    "plt.ylabel('Total Sales')\n",
    "plt.show()"
   ]
  },
  {
   "cell_type": "code",
   "execution_count": 196,
   "id": "4e80a63b-ac62-48b0-bbb3-7e738e5fbfb6",
   "metadata": {},
   "outputs": [],
   "source": [
    "#correlation analysis"
   ]
  },
  {
   "cell_type": "code",
   "execution_count": 198,
   "id": "ff27fe72-8582-4766-b75f-1eec7e7da3a6",
   "metadata": {},
   "outputs": [],
   "source": [
    "corr = merge_df[['quantity', 'unit_price', 'total_price']].corr()"
   ]
  },
  {
   "cell_type": "code",
   "execution_count": 202,
   "id": "383b2a8d-21c3-451a-b24f-f50463ea4797",
   "metadata": {},
   "outputs": [
    {
     "data": {
      "image/png": "[encoded data removed]",
      "text/plain": [
       "<Figure size 800x700 with 2 Axes>"
      ]
     },
     "metadata": {},
     "output_type": "display_data"
    }
   ],
   "source": [
    "plt.figure(figsize=(8,7))\n",
    "sns.heatmap(corr,annot=True,cmap='coolwarm',linewidths=0.5)\n",
    "plt.show()"
   ]
  },
  {
   "cell_type": "markdown",
   "id": "0bdcc323-88f8-43e9-8730-0c5d8e6aaeb4",
   "metadata": {},
   "source": [
    "## Checking Outliers"
   ]
  },
  {
   "cell_type": "code",
   "execution_count": 307,
   "id": "77dd8f5b-27e5-4f51-bc49-87a85c9f548f",
   "metadata": {},
   "outputs": [
    {
     "data": {
      "image/png": "[encoded data removed]",
      "text/plain": [
       "<Figure size 1000x500 with 1 Axes>"
      ]
     },
     "metadata": {},
     "output_type": "display_data"
    }
   ],
   "source": [
    "# Plot to check for outliers\n",
    "plt.figure(figsize=(10, 5))\n",
    "sns.boxplot(sales_data['quantity'])\n",
    "plt.title('Outlier Detection in Quantity Sold')\n",
    "plt.show()"
   ]
  },
  {
   "cell_type": "code",
   "execution_count": 309,
   "id": "0adb78cb-b8ef-48a0-99df-82745e083652",
   "metadata": {},
   "outputs": [],
   "source": [
    "# Remove extreme outliers if necessary\n",
    "sales_data =sales_data[sales_data['quantity'] < sales_data['quantity'].quantile(0.99)]"
   ]
  },
  {
   "cell_type": "code",
   "execution_count": 311,
   "id": "69ffafa5-0bac-4716-9eb5-81666d90ce47",
   "metadata": {},
   "outputs": [
    {
     "data": {
      "image/png": "[encoded data removed]",
      "text/plain": [
       "<Figure size 1000x500 with 1 Axes>"
      ]
     },
     "metadata": {},
     "output_type": "display_data"
    }
   ],
   "source": [
    "# Plot to check for outliers\n",
    "plt.figure(figsize=(10, 5))\n",
    "sns.boxplot(sales_data['quantity'])\n",
    "plt.title('Outlier Detection in Quantity Sold')\n",
    "plt.show()"
   ]
  },
  {
   "cell_type": "markdown",
   "id": "17765678-89b3-4106-bd43-3700ea7f3af5",
   "metadata": {},
   "source": [
    "## Stationarity Check"
   ]
  },
  {
   "cell_type": "code",
   "execution_count": 313,
   "id": "1cdba348-18f1-4953-9210-0bf4f0da7c60",
   "metadata": {},
   "outputs": [],
   "source": [
    "# Using  Augmented Dickey-Fuller test to check stationarity\n",
    "\n",
    "# H0: it is not stationary\n",
    "# H1: it is stationary\n",
    "\n",
    "def adf_test(sales_data):\n",
    "  result = adfuller(sales_data)\n",
    "  print('ADF Statistic: %f' % result[0])\n",
    "  print('p-value: %f' % result[1])\n",
    "  print(f'# Lags used: {result[2]}')\n",
    "  print(f'No of observations used: {result[3]}')\n",
    "  if result[1] <= 0.05:\n",
    "    print('we reject the null hypothesis, The series is stationary')\n",
    "  else:\n",
    "    print('Not enough statistical evidence to reject null hypothesis, The series is not stationary')"
   ]
  },
  {
   "cell_type": "code",
   "execution_count": 319,
   "id": "3cea57e9-c2aa-4595-b1d5-25d9088c8a30",
   "metadata": {},
   "outputs": [
    {
     "name": "stdout",
     "output_type": "stream",
     "text": [
      "ADF Statistic: -4.864377\n",
      "p-value: 0.000041\n",
      "# Lags used: 15\n",
      "No of observations used: 342\n",
      "we reject the null hypothesis, The series is stationary\n"
     ]
    }
   ],
   "source": [
    "adf_test(daily_sales)"
   ]
  },
  {
   "cell_type": "markdown",
   "id": "e178ca56-baa4-4069-941a-0236e66e6c09",
   "metadata": {},
   "source": [
    "Check Stationarity:\n",
    "Used the Augmented Dickey-Fuller (ADF) test to determine if the series is stationary. A stationary series has\n",
    "constant mean and variance over time. If the p-value from the test is above 0.05, the series is not stationary, and differencing is required."
   ]
  },
  {
   "cell_type": "markdown",
   "id": "f94f910c-7b89-4eb2-ae3d-447fe8c535f0",
   "metadata": {},
   "source": [
    "## Autocorrelation and partial Autocorrelation"
   ]
  },
  {
   "cell_type": "markdown",
   "id": "0586b908-b9c8-405f-a86f-a68cfdaaf607",
   "metadata": {},
   "source": [
    "Autocorrelation Function (ACF):\n",
    "\n",
    "The ACF plot shows the correlation of the series with its lags. Use the ACF to identify q (the number of lagged forecast errors in the ARIMA model). \n",
    "Look for the point where the ACF plot cuts off (significant lags end abruptly)."
   ]
  },
  {
   "cell_type": "markdown",
   "id": "35a92a37-73eb-4f0f-b6f2-24cd215d68b1",
   "metadata": {},
   "source": [
    "Partial Autocorrelation Function (PACF):\n",
    "\n",
    "The PACF plot shows the correlation of the series with its lags after removing the effects of intermediate lags. Use the PACF to identify p (the number of lagged terms in the ARIMA model). Look for the point where the PACF plot cuts off."
   ]
  },
  {
   "cell_type": "code",
   "execution_count": 355,
   "id": "1103fbe3-09eb-429f-9817-482bc37f73e8",
   "metadata": {},
   "outputs": [
    {
     "data": {
      "image/png": "[encoded data removed]",
      "text/plain": [
       "<Figure size 1200x800 with 2 Axes>"
      ]
     },
     "metadata": {},
     "output_type": "display_data"
    },
    {
     "data": {
      "image/png": "[encoded data removed]",
      "text/plain": [
       "<Figure size 1200x800 with 2 Axes>"
      ]
     },
     "metadata": {},
     "output_type": "display_data"
    }
   ],
   "source": [
    "fig = plt.figure(figsize=(12,8))\n",
    "ax1 = fig.add_subplot(211)\n",
    "\n",
    "# Acf plot\n",
    "fig = plot_acf(daily_sales, lags=40, ax=ax1)\n",
    "ax2 = fig.add_subplot(212)\n",
    "\n",
    "# pacf plot \n",
    "fig = plot_pacf(daily_sales, lags=40, ax=ax2)\n",
    "plt.show()"
   ]
  },
  {
   "cell_type": "markdown",
   "id": "8a80d98e-73fa-4017-9ca3-547db42f2abe",
   "metadata": {},
   "source": [
    "The ACF cuts off sharply after lag 2, indicating that the moving average component q=2. PACF Plot:\n",
    "\n",
    "The PACF cuts off sharply after lag 1, indicating that the autoregressive component p=1."
   ]
  },
  {
   "cell_type": "markdown",
   "id": "775602a5-b940-4934-90f4-41eee0b28ab3",
   "metadata": {},
   "source": [
    "## Sales Prediction"
   ]
  },
  {
   "cell_type": "code",
   "execution_count": 359,
   "id": "b8e5629d-6a54-4021-b858-6b59f6dfbcfa",
   "metadata": {},
   "outputs": [],
   "source": [
    "# Predicting sales of pizzas for next 7  days using ARIMA, SARIMA, Prophet, LSTM \n",
    "# choosing best model base on MAPE score(mean_absolute_percentage_error)"
   ]
  },
  {
   "cell_type": "code",
   "execution_count": 367,
   "id": "edce99e3-e5bb-4662-9add-6b4ca8df9c24",
   "metadata": {},
   "outputs": [
    {
     "data": {
      "text/html": [
       "<div>\n",
       "<style scoped>\n",
       "    .dataframe tbody tr th:only-of-type {\n",
       "        vertical-align: middle;\n",
       "    }\n",
       "\n",
       "    .dataframe tbody tr th {\n",
       "        vertical-align: top;\n",
       "    }\n",
       "\n",
       "    .dataframe thead th {\n",
       "        text-align: right;\n",
       "    }\n",
       "</style>\n",
       "<table border=\"1\" class=\"dataframe\">\n",
       "  <thead>\n",
       "    <tr style=\"text-align: right;\">\n",
       "      <th>pizza_name</th>\n",
       "      <th>The Barbecue Chicken Pizza</th>\n",
       "      <th>The Big Meat Pizza</th>\n",
       "      <th>The Brie Carre Pizza</th>\n",
       "      <th>The Calabrese Pizza</th>\n",
       "      <th>The California Chicken Pizza</th>\n",
       "      <th>The Chicken Alfredo Pizza</th>\n",
       "      <th>The Chicken Pesto Pizza</th>\n",
       "      <th>The Classic Deluxe Pizza</th>\n",
       "      <th>The Five Cheese Pizza</th>\n",
       "      <th>The Four Cheese Pizza</th>\n",
       "      <th>...</th>\n",
       "      <th>The Prosciutto and Arugula Pizza</th>\n",
       "      <th>The Sicilian Pizza</th>\n",
       "      <th>The Soppressata Pizza</th>\n",
       "      <th>The Southwest Chicken Pizza</th>\n",
       "      <th>The Spicy Italian Pizza</th>\n",
       "      <th>The Spinach Pesto Pizza</th>\n",
       "      <th>The Spinach Supreme Pizza</th>\n",
       "      <th>The Spinach and Feta Pizza</th>\n",
       "      <th>The Thai Chicken Pizza</th>\n",
       "      <th>The Vegetables + Vegetables Pizza</th>\n",
       "    </tr>\n",
       "    <tr>\n",
       "      <th>order_date</th>\n",
       "      <th></th>\n",
       "      <th></th>\n",
       "      <th></th>\n",
       "      <th></th>\n",
       "      <th></th>\n",
       "      <th></th>\n",
       "      <th></th>\n",
       "      <th></th>\n",
       "      <th></th>\n",
       "      <th></th>\n",
       "      <th></th>\n",
       "      <th></th>\n",
       "      <th></th>\n",
       "      <th></th>\n",
       "      <th></th>\n",
       "      <th></th>\n",
       "      <th></th>\n",
       "      <th></th>\n",
       "      <th></th>\n",
       "      <th></th>\n",
       "      <th></th>\n",
       "    </tr>\n",
       "  </thead>\n",
       "  <tbody>\n",
       "    <tr>\n",
       "      <th>2015-01-01</th>\n",
       "      <td>11.00</td>\n",
       "      <td>5.00</td>\n",
       "      <td>0.00</td>\n",
       "      <td>1.00</td>\n",
       "      <td>4.00</td>\n",
       "      <td>2.00</td>\n",
       "      <td>4.00</td>\n",
       "      <td>10.00</td>\n",
       "      <td>7.00</td>\n",
       "      <td>6.00</td>\n",
       "      <td>...</td>\n",
       "      <td>4.00</td>\n",
       "      <td>4.00</td>\n",
       "      <td>1.00</td>\n",
       "      <td>7.00</td>\n",
       "      <td>5.00</td>\n",
       "      <td>2.00</td>\n",
       "      <td>5.00</td>\n",
       "      <td>2.00</td>\n",
       "      <td>8.00</td>\n",
       "      <td>3.00</td>\n",
       "    </tr>\n",
       "    <tr>\n",
       "      <th>2015-01-02</th>\n",
       "      <td>12.00</td>\n",
       "      <td>5.00</td>\n",
       "      <td>3.00</td>\n",
       "      <td>7.00</td>\n",
       "      <td>15.00</td>\n",
       "      <td>3.00</td>\n",
       "      <td>2.00</td>\n",
       "      <td>13.00</td>\n",
       "      <td>5.00</td>\n",
       "      <td>6.00</td>\n",
       "      <td>...</td>\n",
       "      <td>6.00</td>\n",
       "      <td>5.00</td>\n",
       "      <td>3.00</td>\n",
       "      <td>9.00</td>\n",
       "      <td>9.00</td>\n",
       "      <td>5.00</td>\n",
       "      <td>3.00</td>\n",
       "      <td>4.00</td>\n",
       "      <td>8.00</td>\n",
       "      <td>1.00</td>\n",
       "    </tr>\n",
       "    <tr>\n",
       "      <th>2015-01-03</th>\n",
       "      <td>2.00</td>\n",
       "      <td>3.00</td>\n",
       "      <td>1.00</td>\n",
       "      <td>1.00</td>\n",
       "      <td>6.00</td>\n",
       "      <td>0.00</td>\n",
       "      <td>1.00</td>\n",
       "      <td>4.00</td>\n",
       "      <td>5.00</td>\n",
       "      <td>4.00</td>\n",
       "      <td>...</td>\n",
       "      <td>1.00</td>\n",
       "      <td>2.00</td>\n",
       "      <td>0.00</td>\n",
       "      <td>9.00</td>\n",
       "      <td>4.00</td>\n",
       "      <td>3.00</td>\n",
       "      <td>0.00</td>\n",
       "      <td>5.00</td>\n",
       "      <td>4.00</td>\n",
       "      <td>6.00</td>\n",
       "    </tr>\n",
       "    <tr>\n",
       "      <th>2015-01-04</th>\n",
       "      <td>2.00</td>\n",
       "      <td>3.00</td>\n",
       "      <td>0.00</td>\n",
       "      <td>2.00</td>\n",
       "      <td>3.00</td>\n",
       "      <td>3.00</td>\n",
       "      <td>2.00</td>\n",
       "      <td>8.00</td>\n",
       "      <td>7.00</td>\n",
       "      <td>6.00</td>\n",
       "      <td>...</td>\n",
       "      <td>4.00</td>\n",
       "      <td>8.00</td>\n",
       "      <td>6.00</td>\n",
       "      <td>10.00</td>\n",
       "      <td>4.00</td>\n",
       "      <td>4.00</td>\n",
       "      <td>6.00</td>\n",
       "      <td>1.00</td>\n",
       "      <td>3.00</td>\n",
       "      <td>5.00</td>\n",
       "    </tr>\n",
       "    <tr>\n",
       "      <th>2015-01-05</th>\n",
       "      <td>6.00</td>\n",
       "      <td>1.00</td>\n",
       "      <td>1.00</td>\n",
       "      <td>4.00</td>\n",
       "      <td>11.00</td>\n",
       "      <td>2.00</td>\n",
       "      <td>3.00</td>\n",
       "      <td>9.00</td>\n",
       "      <td>4.00</td>\n",
       "      <td>4.00</td>\n",
       "      <td>...</td>\n",
       "      <td>5.00</td>\n",
       "      <td>5.00</td>\n",
       "      <td>0.00</td>\n",
       "      <td>6.00</td>\n",
       "      <td>5.00</td>\n",
       "      <td>2.00</td>\n",
       "      <td>4.00</td>\n",
       "      <td>5.00</td>\n",
       "      <td>10.00</td>\n",
       "      <td>6.00</td>\n",
       "    </tr>\n",
       "  </tbody>\n",
       "</table>\n",
       "<p>5 rows × 32 columns</p>\n",
       "</div>"
      ],
      "text/plain": [
       "pizza_name  The Barbecue Chicken Pizza  The Big Meat Pizza  \\\n",
       "order_date                                                   \n",
       "2015-01-01                       11.00                5.00   \n",
       "2015-01-02                       12.00                5.00   \n",
       "2015-01-03                        2.00                3.00   \n",
       "2015-01-04                        2.00                3.00   \n",
       "2015-01-05                        6.00                1.00   \n",
       "\n",
       "pizza_name  The Brie Carre Pizza  The Calabrese Pizza  \\\n",
       "order_date                                              \n",
       "2015-01-01                  0.00                 1.00   \n",
       "2015-01-02                  3.00                 7.00   \n",
       "2015-01-03                  1.00                 1.00   \n",
       "2015-01-04                  0.00                 2.00   \n",
       "2015-01-05                  1.00                 4.00   \n",
       "\n",
       "pizza_name  The California Chicken Pizza  The Chicken Alfredo Pizza  \\\n",
       "order_date                                                            \n",
       "2015-01-01                          4.00                       2.00   \n",
       "2015-01-02                         15.00                       3.00   \n",
       "2015-01-03                          6.00                       0.00   \n",
       "2015-01-04                          3.00                       3.00   \n",
       "2015-01-05                         11.00                       2.00   \n",
       "\n",
       "pizza_name  The Chicken Pesto Pizza  The Classic Deluxe Pizza  \\\n",
       "order_date                                                      \n",
       "2015-01-01                     4.00                     10.00   \n",
       "2015-01-02                     2.00                     13.00   \n",
       "2015-01-03                     1.00                      4.00   \n",
       "2015-01-04                     2.00                      8.00   \n",
       "2015-01-05                     3.00                      9.00   \n",
       "\n",
       "pizza_name  The Five Cheese Pizza  The Four Cheese Pizza  ...  \\\n",
       "order_date                                                ...   \n",
       "2015-01-01                   7.00                   6.00  ...   \n",
       "2015-01-02                   5.00                   6.00  ...   \n",
       "2015-01-03                   5.00                   4.00  ...   \n",
       "2015-01-04                   7.00                   6.00  ...   \n",
       "2015-01-05                   4.00                   4.00  ...   \n",
       "\n",
       "pizza_name  The Prosciutto and Arugula Pizza  The Sicilian Pizza  \\\n",
       "order_date                                                         \n",
       "2015-01-01                              4.00                4.00   \n",
       "2015-01-02                              6.00                5.00   \n",
       "2015-01-03                              1.00                2.00   \n",
       "2015-01-04                              4.00                8.00   \n",
       "2015-01-05                              5.00                5.00   \n",
       "\n",
       "pizza_name  The Soppressata Pizza  The Southwest Chicken Pizza  \\\n",
       "order_date                                                       \n",
       "2015-01-01                   1.00                         7.00   \n",
       "2015-01-02                   3.00                         9.00   \n",
       "2015-01-03                   0.00                         9.00   \n",
       "2015-01-04                   6.00                        10.00   \n",
       "2015-01-05                   0.00                         6.00   \n",
       "\n",
       "pizza_name  The Spicy Italian Pizza  The Spinach Pesto Pizza  \\\n",
       "order_date                                                     \n",
       "2015-01-01                     5.00                     2.00   \n",
       "2015-01-02                     9.00                     5.00   \n",
       "2015-01-03                     4.00                     3.00   \n",
       "2015-01-04                     4.00                     4.00   \n",
       "2015-01-05                     5.00                     2.00   \n",
       "\n",
       "pizza_name  The Spinach Supreme Pizza  The Spinach and Feta Pizza  \\\n",
       "order_date                                                          \n",
       "2015-01-01                       5.00                        2.00   \n",
       "2015-01-02                       3.00                        4.00   \n",
       "2015-01-03                       0.00                        5.00   \n",
       "2015-01-04                       6.00                        1.00   \n",
       "2015-01-05                       4.00                        5.00   \n",
       "\n",
       "pizza_name  The Thai Chicken Pizza  The Vegetables + Vegetables Pizza  \n",
       "order_date                                                             \n",
       "2015-01-01                    8.00                               3.00  \n",
       "2015-01-02                    8.00                               1.00  \n",
       "2015-01-03                    4.00                               6.00  \n",
       "2015-01-04                    3.00                               5.00  \n",
       "2015-01-05                   10.00                               6.00  \n",
       "\n",
       "[5 rows x 32 columns]"
      ]
     },
     "execution_count": 367,
     "metadata": {},
     "output_type": "execute_result"
    }
   ],
   "source": [
    "data = sales_data.groupby(['order_date', 'pizza_name'])['quantity'].sum().unstack().fillna(0)\n",
    "data.head()"
   ]
  },
  {
   "cell_type": "code",
   "execution_count": 371,
   "id": "01551080-7a4b-4074-9ce6-1e670f731910",
   "metadata": {},
   "outputs": [],
   "source": [
    "one_pizza = data['The Barbecue Chicken Pizza']"
   ]
  },
  {
   "cell_type": "code",
   "execution_count": 375,
   "id": "676442e8-8307-43f1-a752-bc614addc3ad",
   "metadata": {},
   "outputs": [],
   "source": [
    "# Train-Test Split\n",
    "train = one_pizza[:-30]  # Use all but the last 30 days for training\n",
    "test = one_pizza[-30:]   # Use the last 30 days for testing"
   ]
  },
  {
   "cell_type": "code",
   "execution_count": 377,
   "id": "a5072998-8fcb-4a48-8751-c67827b6d00d",
   "metadata": {},
   "outputs": [],
   "source": [
    "train = train.fillna(train.median())"
   ]
  },
  {
   "cell_type": "markdown",
   "id": "a8c1112f-f605-4b8e-9cf8-42b78f2e8815",
   "metadata": {},
   "source": [
    "## model selection"
   ]
  },
  {
   "cell_type": "markdown",
   "id": "f7ac5359-9eef-4f6a-bfe3-1a5b340e3f85",
   "metadata": {},
   "source": [
    "ARIMA / SARIMA ARIMA (AutoRegressive Integrated Moving Average) and SARIMA (Seasonal ARIMA) are great starting points if your data shows seasonal patterns and trends."
   ]
  },
  {
   "cell_type": "code",
   "execution_count": 205,
   "id": "7219dd89-3a0d-45a8-867d-0f50473e47b5",
   "metadata": {},
   "outputs": [
    {
     "name": "stdout",
     "output_type": "stream",
     "text": [
      "Requirement already satisfied: statsmodels in c:\\users\\rupsh\\anaconda3\\lib\\site-packages (0.14.2)\n",
      "Requirement already satisfied: numpy>=1.22.3 in c:\\users\\rupsh\\anaconda3\\lib\\site-packages (from statsmodels) (1.26.4)\n",
      "Requirement already satisfied: scipy!=1.9.2,>=1.8 in c:\\users\\rupsh\\anaconda3\\lib\\site-packages (from statsmodels) (1.13.1)\n",
      "Requirement already satisfied: pandas!=2.1.0,>=1.4 in c:\\users\\rupsh\\anaconda3\\lib\\site-packages (from statsmodels) (2.2.2)\n",
      "Requirement already satisfied: patsy>=0.5.6 in c:\\users\\rupsh\\anaconda3\\lib\\site-packages (from statsmodels) (0.5.6)\n",
      "Requirement already satisfied: packaging>=21.3 in c:\\users\\rupsh\\anaconda3\\lib\\site-packages (from statsmodels) (24.1)\n",
      "Requirement already satisfied: python-dateutil>=2.8.2 in c:\\users\\rupsh\\anaconda3\\lib\\site-packages (from pandas!=2.1.0,>=1.4->statsmodels) (2.9.0.post0)\n",
      "Requirement already satisfied: pytz>=2020.1 in c:\\users\\rupsh\\anaconda3\\lib\\site-packages (from pandas!=2.1.0,>=1.4->statsmodels) (2024.1)\n",
      "Requirement already satisfied: tzdata>=2022.7 in c:\\users\\rupsh\\anaconda3\\lib\\site-packages (from pandas!=2.1.0,>=1.4->statsmodels) (2023.3)\n",
      "Requirement already satisfied: six in c:\\users\\rupsh\\anaconda3\\lib\\site-packages (from patsy>=0.5.6->statsmodels) (1.16.0)\n",
      "Note: you may need to restart the kernel to use updated packages.\n"
     ]
    }
   ],
   "source": [
    "pip install statsmodels"
   ]
  },
  {
   "cell_type": "code",
   "execution_count": 207,
   "id": "2d5df4c7-33c2-445b-94a5-4293e9cb57a4",
   "metadata": {},
   "outputs": [
    {
     "name": "stdout",
     "output_type": "stream",
     "text": [
      "Collecting pmdarima\n",
      "  Downloading pmdarima-2.0.4-cp312-cp312-win_amd64.whl.metadata (8.0 kB)\n",
      "Requirement already satisfied: joblib>=0.11 in c:\\users\\rupsh\\anaconda3\\lib\\site-packages (from pmdarima) (1.4.2)\n",
      "Collecting Cython!=0.29.18,!=0.29.31,>=0.29 (from pmdarima)\n",
      "  Downloading cython-3.1.1-cp312-cp312-win_amd64.whl.metadata (3.6 kB)\n",
      "Requirement already satisfied: numpy>=1.21.2 in c:\\users\\rupsh\\anaconda3\\lib\\site-packages (from pmdarima) (1.26.4)\n",
      "Requirement already satisfied: pandas>=0.19 in c:\\users\\rupsh\\anaconda3\\lib\\site-packages (from pmdarima) (2.2.2)\n",
      "Requirement already satisfied: scikit-learn>=0.22 in c:\\users\\rupsh\\anaconda3\\lib\\site-packages (from pmdarima) (1.5.1)\n",
      "Requirement already satisfied: scipy>=1.3.2 in c:\\users\\rupsh\\anaconda3\\lib\\site-packages (from pmdarima) (1.13.1)\n",
      "Requirement already satisfied: statsmodels>=0.13.2 in c:\\users\\rupsh\\anaconda3\\lib\\site-packages (from pmdarima) (0.14.2)\n",
      "Requirement already satisfied: urllib3 in c:\\users\\rupsh\\anaconda3\\lib\\site-packages (from pmdarima) (2.2.3)\n",
      "Requirement already satisfied: setuptools!=50.0.0,>=38.6.0 in c:\\users\\rupsh\\anaconda3\\lib\\site-packages (from pmdarima) (75.1.0)\n",
      "Requirement already satisfied: packaging>=17.1 in c:\\users\\rupsh\\anaconda3\\lib\\site-packages (from pmdarima) (24.1)\n",
      "Requirement already satisfied: python-dateutil>=2.8.2 in c:\\users\\rupsh\\anaconda3\\lib\\site-packages (from pandas>=0.19->pmdarima) (2.9.0.post0)\n",
      "Requirement already satisfied: pytz>=2020.1 in c:\\users\\rupsh\\anaconda3\\lib\\site-packages (from pandas>=0.19->pmdarima) (2024.1)\n",
      "Requirement already satisfied: tzdata>=2022.7 in c:\\users\\rupsh\\anaconda3\\lib\\site-packages (from pandas>=0.19->pmdarima) (2023.3)\n",
      "Requirement already satisfied: threadpoolctl>=3.1.0 in c:\\users\\rupsh\\anaconda3\\lib\\site-packages (from scikit-learn>=0.22->pmdarima) (3.5.0)\n",
      "Requirement already satisfied: patsy>=0.5.6 in c:\\users\\rupsh\\anaconda3\\lib\\site-packages (from statsmodels>=0.13.2->pmdarima) (0.5.6)\n",
      "Requirement already satisfied: six in c:\\users\\rupsh\\anaconda3\\lib\\site-packages (from patsy>=0.5.6->statsmodels>=0.13.2->pmdarima) (1.16.0)\n",
      "Downloading pmdarima-2.0.4-cp312-cp312-win_amd64.whl (625 kB)\n",
      "   ---------------------------------------- 0.0/625.1 kB ? eta -:--:--\n",
      "   ---------------------------------------- 0.0/625.1 kB ? eta -:--:--\n",
      "   ---------------------------------------- 0.0/625.1 kB ? eta -:--:--\n",
      "   ---------------------------------------- 0.0/625.1 kB ? eta -:--:--\n",
      "   ---------------------------------------- 0.0/625.1 kB ? eta -:--:--\n",
      "   ---------------------------------------- 0.0/625.1 kB ? eta -:--:--\n",
      "   ---------------------------------------- 0.0/625.1 kB ? eta -:--:--\n",
      "   ---------------------------------------- 0.0/625.1 kB ? eta -:--:--\n",
      "   ---------------- ----------------------- 262.1/625.1 kB ? eta -:--:--\n",
      "   ---------------- ----------------------- 262.1/625.1 kB ? eta -:--:--\n",
      "   ---------------- ----------------------- 262.1/625.1 kB ? eta -:--:--\n",
      "   ------------------------------- ------ 524.3/625.1 kB 328.9 kB/s eta 0:00:01\n",
      "   ------------------------------- ------ 524.3/625.1 kB 328.9 kB/s eta 0:00:01\n",
      "   ------------------------------- ------ 524.3/625.1 kB 328.9 kB/s eta 0:00:01\n",
      "   -------------------------------------- 625.1/625.1 kB 298.0 kB/s eta 0:00:00\n",
      "Downloading cython-3.1.1-cp312-cp312-win_amd64.whl (2.7 MB)\n",
      "   ---------------------------------------- 0.0/2.7 MB ? eta -:--:--\n",
      "   ---------------------------------------- 0.0/2.7 MB ? eta -:--:--\n",
      "   ---------------------------------------- 0.0/2.7 MB ? eta -:--:--\n",
      "   ---------------------------------------- 0.0/2.7 MB ? eta -:--:--\n",
      "   ---------------------------------------- 0.0/2.7 MB ? eta -:--:--\n",
      "   ---------------------------------------- 0.0/2.7 MB ? eta -:--:--\n",
      "   --- ------------------------------------ 0.3/2.7 MB ? eta -:--:--\n",
      "   --- ------------------------------------ 0.3/2.7 MB ? eta -:--:--\n",
      "   --- ------------------------------------ 0.3/2.7 MB ? eta -:--:--\n",
      "   ------- -------------------------------- 0.5/2.7 MB 390.1 kB/s eta 0:00:06\n",
      "   ------- -------------------------------- 0.5/2.7 MB 390.1 kB/s eta 0:00:06\n",
      "   ------- -------------------------------- 0.5/2.7 MB 390.1 kB/s eta 0:00:06\n",
      "   ----------- ---------------------------- 0.8/2.7 MB 390.1 kB/s eta 0:00:05\n",
      "   ----------- ---------------------------- 0.8/2.7 MB 390.1 kB/s eta 0:00:05\n",
      "   ----------- ---------------------------- 0.8/2.7 MB 390.1 kB/s eta 0:00:05\n",
      "   ----------- ---------------------------- 0.8/2.7 MB 390.1 kB/s eta 0:00:05\n",
      "   ----------- ---------------------------- 0.8/2.7 MB 390.1 kB/s eta 0:00:05\n",
      "   --------------- ------------------------ 1.0/2.7 MB 335.5 kB/s eta 0:00:05\n",
      "   --------------- ------------------------ 1.0/2.7 MB 335.5 kB/s eta 0:00:05\n",
      "   --------------- ------------------------ 1.0/2.7 MB 335.5 kB/s eta 0:00:05\n",
      "   --------------- ------------------------ 1.0/2.7 MB 335.5 kB/s eta 0:00:05\n",
      "   ------------------- -------------------- 1.3/2.7 MB 322.6 kB/s eta 0:00:05\n",
      "   ----------------------- ---------------- 1.6/2.7 MB 372.9 kB/s eta 0:00:03\n",
      "   --------------------------- ------------ 1.8/2.7 MB 426.6 kB/s eta 0:00:02\n",
      "   ------------------------------- -------- 2.1/2.7 MB 477.4 kB/s eta 0:00:02\n",
      "   ----------------------------------- ---- 2.4/2.7 MB 512.2 kB/s eta 0:00:01\n",
      "   ---------------------------------------  2.6/2.7 MB 545.1 kB/s eta 0:00:01\n",
      "   ---------------------------------------- 2.7/2.7 MB 547.7 kB/s eta 0:00:00\n",
      "Installing collected packages: Cython, pmdarima\n",
      "Successfully installed Cython-3.1.1 pmdarima-2.0.4\n",
      "Note: you may need to restart the kernel to use updated packages.\n"
     ]
    }
   ],
   "source": [
    "pip install pmdarima"
   ]
  },
  {
   "cell_type": "markdown",
   "id": "8360b800-3484-4de8-a312-70f88aa1b65b",
   "metadata": {},
   "source": [
    "### ARIMA model"
   ]
  },
  {
   "cell_type": "markdown",
   "id": "e6e491ff-cd9d-4d14-af76-252a75d54b69",
   "metadata": {},
   "source": [
    ". p (AutoRegressive term): The number of past observations (lags) used to predict the future value.\n",
    ". d (Differencing term): The number of times the data is differenced to make it stationary.\n",
    ". q (Moving Average term): The number of past forecast errors used to improve future predictions."
   ]
  },
  {
   "cell_type": "code",
   "execution_count": 379,
   "id": "71db6799-aa3e-43d3-ae69-c70d43e9f60f",
   "metadata": {},
   "outputs": [
    {
     "name": "stdout",
     "output_type": "stream",
     "text": [
      "DatetimeIndex(['2015-01-01', '2015-01-02', '2015-01-03', '2015-01-04',\n",
      "               '2015-01-05', '2015-01-06', '2015-01-07', '2015-01-08',\n",
      "               '2015-01-09', '2015-01-10',\n",
      "               ...\n",
      "               '2015-11-20', '2015-11-21', '2015-11-22', '2015-11-23',\n",
      "               '2015-11-24', '2015-11-25', '2015-11-26', '2015-11-27',\n",
      "               '2015-11-28', '2015-11-29'],\n",
      "              dtype='datetime64[ns]', name='order_date', length=328, freq=None)\n"
     ]
    }
   ],
   "source": [
    "print(train.index)"
   ]
  },
  {
   "cell_type": "code",
   "execution_count": 381,
   "id": "90416143-18e7-43df-90ad-fadec2835271",
   "metadata": {},
   "outputs": [],
   "source": [
    "train.index = pd.to_datetime(train.index)\n",
    "train = train.asfreq('D')  # 'D' for daily, adjust based on your data's frequency"
   ]
  },
  {
   "cell_type": "code",
   "execution_count": 383,
   "id": "a739cb61-9d61-4142-9430-ee8341106b8b",
   "metadata": {},
   "outputs": [
    {
     "data": {
      "text/plain": [
       "order_date\n",
       "2015-01-01   11.00\n",
       "2015-01-02   12.00\n",
       "2015-01-03    2.00\n",
       "2015-01-04    2.00\n",
       "2015-01-05    6.00\n",
       "              ... \n",
       "2015-11-25    3.00\n",
       "2015-11-26    9.00\n",
       "2015-11-27   13.00\n",
       "2015-11-28    8.00\n",
       "2015-11-29    4.00\n",
       "Freq: D, Name: The Barbecue Chicken Pizza, Length: 333, dtype: float64"
      ]
     },
     "execution_count": 383,
     "metadata": {},
     "output_type": "execute_result"
    }
   ],
   "source": [
    "train"
   ]
  },
  {
   "cell_type": "code",
   "execution_count": 389,
   "id": "2ac7b2a9-a19e-450e-8f99-7d19118a3993",
   "metadata": {},
   "outputs": [
    {
     "name": "stdout",
     "output_type": "stream",
     "text": [
      "ARIMA Model MAPE: 0.4916207271258181\n"
     ]
    }
   ],
   "source": [
    "# Fit ARIMA model (order=(1, 1, 1) as a starting point; optimize based on AIC/BIC)\n",
    "arima_model = ARIMA(train, order=(1, 0, 2))\n",
    "arima_result = arima_model.fit()\n",
    "\n",
    "# Forecast\n",
    "arima_forecast = arima_result.forecast(steps=len(test))\n",
    "\n",
    "# Evaluate ARIMA Model\n",
    "arima_mape = mean_absolute_percentage_error(test, arima_forecast)\n",
    "\n",
    "print(\"ARIMA Model MAPE:\", arima_mape)"
   ]
  },
  {
   "cell_type": "code",
   "execution_count": 391,
   "id": "5364225e-ef74-4f85-8a7c-011c008ab049",
   "metadata": {},
   "outputs": [
    {
     "data": {
      "image/png": "[encoded data removed]",
      "text/plain": [
       "<Figure size 1000x500 with 1 Axes>"
      ]
     },
     "metadata": {},
     "output_type": "display_data"
    }
   ],
   "source": [
    "# Plot Actual vs Predicted\n",
    "plt.figure(figsize=(10, 5))\n",
    "plt.plot(test.index, test, label='Actual', color='blue')\n",
    "plt.plot(test.index, arima_forecast, label='ARIMA Predicted', linestyle='--', color='orange')\n",
    "plt.title('ARIMA Model: Actual vs Predicted')\n",
    "plt.xlabel('Date')\n",
    "plt.ylabel('Quantity Sold')\n",
    "plt.legend()\n",
    "plt.grid(alpha=0.3)\n",
    "plt.show()"
   ]
  },
  {
   "cell_type": "markdown",
   "id": "84505a13-d3b0-493d-8fa6-d5169d178cfc",
   "metadata": {},
   "source": [
    "ARIMA model is appearing to predict a flat trend, not capturing the variability in actual sales"
   ]
  },
  {
   "cell_type": "markdown",
   "id": "a409eb12-09d6-4fa9-9835-06983e86b78a",
   "metadata": {},
   "source": [
    "### SARIMAX MODEL"
   ]
  },
  {
   "cell_type": "markdown",
   "id": "4de3a260-b871-4799-90fb-f92b9dcdb24f",
   "metadata": {},
   "source": [
    "\n",
    "SARIMA (Seasonal AutoRegressive Integrated Moving Average) is a statistical model used for forecasting time series data that exhibits both trends and seasonal patterns.\n",
    "\n",
    "SARIMA(p, d, q)(P, D, Q, s)\n",
    "\n",
    "p, d, q: Non-seasonal autoregressive, differencing, and moving average terms\n",
    "\n",
    "P, D, Q: Seasonal autoregressive, differencing, and moving average terms\n",
    "\n",
    "s: The number of time steps in a season (e.g., 7 for weekly seasonality)"
   ]
  },
  {
   "cell_type": "code",
   "execution_count": 395,
   "id": "3a8fbc81-cabb-4e6a-86d3-eb5533005a38",
   "metadata": {},
   "outputs": [
    {
     "name": "stdout",
     "output_type": "stream",
     "text": [
      "SARIMA Model MAPE: 0.44297837800258727\n"
     ]
    }
   ],
   "source": [
    "# Fit SARIMA model (seasonal_order=(1, 1, 1, 7) for weekly seasonality; adjust as needed)\n",
    "sarima_model = SARIMAX(train, order=(1, 1, 1), seasonal_order=(1, 1, 1, 7))\n",
    "sarima_result = sarima_model.fit()\n",
    "\n",
    "# Forecast\n",
    "sarima_forecast = sarima_result.forecast(steps=len(test))\n",
    "\n",
    "# Evaluate SARIMA Model\n",
    "sarima_mape = mean_absolute_percentage_error(test, sarima_forecast)\n",
    "\n",
    "print(\"SARIMA Model MAPE:\", sarima_mape)"
   ]
  },
  {
   "cell_type": "code",
   "execution_count": 399,
   "id": "fb4a3d67-4c4a-4c4e-842b-caad0851c09d",
   "metadata": {},
   "outputs": [
    {
     "data": {
      "image/png": "[encoded data removed]",
      "text/plain": [
       "<Figure size 1000x500 with 1 Axes>"
      ]
     },
     "metadata": {},
     "output_type": "display_data"
    }
   ],
   "source": [
    "# Plot Actual vs Predicted\n",
    "plt.figure(figsize=(10, 5))\n",
    "plt.plot(test.index, test, label='Actual', color='blue')\n",
    "plt.plot(test.index, sarima_forecast, label='SARIMA Predicted', linestyle='--', color='orange')\n",
    "plt.title('SARIMA Model: Actual vs Predicted')\n",
    "plt.xlabel('Date')\n",
    "plt.ylabel('Quantity Sold')\n",
    "plt.legend()\n",
    "plt.grid(alpha=0.3)\n",
    "plt.show()\n",
    "     "
   ]
  },
  {
   "cell_type": "markdown",
   "id": "36b36ce0-e62b-4655-9b57-e6720c3e4378",
   "metadata": {},
   "source": [
    "SARIMA predictions show periodic peaks and dips, indicating it captures seasonality better than ARIMA.\n",
    "However, there’s still a lag in capturing sudden changes in sales\n",
    "Prophet Model"
   ]
  },
  {
   "cell_type": "markdown",
   "id": "65570020-bf81-483f-82bc-4cd2ae3eea2b",
   "metadata": {},
   "source": [
    "### Prophet"
   ]
  },
  {
   "cell_type": "markdown",
   "id": "7e691189-03f3-4ed5-ac2d-0c3d95254ca0",
   "metadata": {},
   "source": [
    "\n",
    "Prophet is an open-source time series forecasting library developed by Facebook (Meta).It is based on an additive model where non-linear trends are fit with yearly, weekly, and daily seasonality, plus holiday effects. It works best with time series that have strong seasonal effects and several seasons of historical data.\n",
    "\n",
    "Model: Additive model – y(t) = trend + seasonality + holidays + error"
   ]
  },
  {
   "cell_type": "code",
   "execution_count": 402,
   "id": "f3a13074-3f84-4b91-bf76-a5c7c6d800fb",
   "metadata": {},
   "outputs": [
    {
     "name": "stderr",
     "output_type": "stream",
     "text": [
      "13:40:02 - cmdstanpy - INFO - Chain [1] start processing\n",
      "13:40:03 - cmdstanpy - INFO - Chain [1] done processing\n"
     ]
    },
    {
     "name": "stdout",
     "output_type": "stream",
     "text": [
      "Prophet Model MAPE: 0.4386107765641858\n"
     ]
    }
   ],
   "source": [
    "# Prepare data for Prophet\n",
    "prophet_data = one_pizza.reset_index()\n",
    "prophet_data.columns = ['ds', 'y']\n",
    "\n",
    "# Train-Test Split\n",
    "prophet_train = prophet_data[:-30]\n",
    "prophet_test = prophet_data[-30:]\n",
    "\n",
    "# Fit Prophet Model\n",
    "prophet_model =  Prophet()\n",
    "prophet_model.fit(prophet_train)\n",
    "\n",
    "# Forecast\n",
    "future_dates = prophet_model.make_future_dataframe(periods=30)\n",
    "prophet_forecast = prophet_model.predict(future_dates)\n",
    "\n",
    "# Extract only test period forecast\n",
    "prophet_test_forecast = prophet_forecast[-30:]['yhat']\n",
    "\n",
    "# Evaluate Prophet Model\n",
    "prophet_mape = mean_absolute_percentage_error(prophet_test['y'], prophet_test_forecast)\n",
    "\n",
    "print(\"Prophet Model MAPE:\", prophet_mape)"
   ]
  },
  {
   "cell_type": "code",
   "execution_count": 404,
   "id": "ba3a32a1-7254-4c9b-b159-29eb662ed8c7",
   "metadata": {},
   "outputs": [
    {
     "data": {
      "image/png": "[encoded data removed]",
      "text/plain": [
       "<Figure size 1000x500 with 1 Axes>"
      ]
     },
     "metadata": {},
     "output_type": "display_data"
    }
   ],
   "source": [
    "plt.figure(figsize=(10, 5))\n",
    "plt.plot(prophet_test['ds'], prophet_test['y'], label='Actual', color='blue')\n",
    "plt.plot(prophet_test['ds'], prophet_test_forecast, label='Prophet Predicted', linestyle='--', color='orange')\n",
    "plt.title('Prophet Model: Actual vs Predicted')\n",
    "plt.xlabel('Date')\n",
    "plt.ylabel('Quantity Sold')\n",
    "plt.legend()\n",
    "plt.grid(alpha=0.3)\n",
    "plt.show()"
   ]
  },
  {
   "cell_type": "markdown",
   "id": "4e1bc44b-e990-45dc-8d3c-562aa48762e3",
   "metadata": {},
   "source": [
    "Prophet captures seasonal variations well, closely following the periodic fluctuations of actual sales.\n",
    "Some deviations are present during sharp changes, but overall, Prophet performs robustly"
   ]
  },
  {
   "cell_type": "code",
   "execution_count": 407,
   "id": "a6bb8fd1-b9d4-4759-a5bc-b8a9e7f105c3",
   "metadata": {},
   "outputs": [
    {
     "data": {
      "image/png": "[encoded data removed]",
      "text/plain": [
       "<Figure size 1000x600 with 1 Axes>"
      ]
     },
     "metadata": {},
     "output_type": "display_data"
    }
   ],
   "source": [
    "# Data\n",
    "MODEL = ['SARIMA', 'ARIMA', 'PROPHET']\n",
    "VALUE = [44.29,49.16,43.86]\n",
    "\n",
    "# Set Seaborn theme\n",
    "sns.set_theme(style=\"whitegrid\")\n",
    "\n",
    "# Create figure\n",
    "plt.figure(figsize=(10,6))\n",
    "barplot = sns.barplot(x=MODEL, y=VALUE, palette=\"mako\", edgecolor='black')\n",
    "\n",
    "# Annotate bars neatly above\n",
    "for index, value in enumerate(VALUE):\n",
    "    plt.text(index, value + 0.3, f'{value:.2f}', ha='center', va='bottom', fontweight='bold', fontsize=12)\n",
    "\n",
    "# Titles and labels\n",
    "plt.title('Model Error Comparison ', fontsize=16, fontweight='bold', color='navy')\n",
    "plt.xlabel('Model', fontsize=14)\n",
    "plt.ylabel('Error Value', fontsize=14)\n",
    "\n",
    "# Adjust layout\n",
    "plt.tight_layout()\n",
    "\n",
    "# Show plot\n",
    "plt.show()\n",
    "\n",
    "     "
   ]
  },
  {
   "cell_type": "markdown",
   "id": "532343da-c59e-41d0-baf0-40052e68e377",
   "metadata": {},
   "source": [
    " On comparing all the models Prophet model got selected due to its lowest mape score"
   ]
  },
  {
   "cell_type": "markdown",
   "id": "a1640f94-5bdf-4e77-a514-47d9e51fa85a",
   "metadata": {},
   "source": [
    "## Sales Forecasting: Predicting pizza sales for the next one week using the trained Prophet model."
   ]
  },
  {
   "cell_type": "code",
   "execution_count": 417,
   "id": "faa6ec6f-d026-452c-93e4-a73acade317b",
   "metadata": {},
   "outputs": [
    {
     "name": "stderr",
     "output_type": "stream",
     "text": [
      "14:35:40 - cmdstanpy - INFO - Chain [1] start processing\n",
      "14:35:40 - cmdstanpy - INFO - Chain [1] done processing\n",
      "14:35:40 - cmdstanpy - INFO - Chain [1] start processing\n",
      "14:35:40 - cmdstanpy - INFO - Chain [1] done processing\n",
      "14:35:40 - cmdstanpy - INFO - Chain [1] start processing\n",
      "14:35:40 - cmdstanpy - INFO - Chain [1] done processing\n",
      "14:35:41 - cmdstanpy - INFO - Chain [1] start processing\n",
      "14:35:41 - cmdstanpy - INFO - Chain [1] done processing\n",
      "14:35:41 - cmdstanpy - INFO - Chain [1] start processing\n",
      "14:35:41 - cmdstanpy - INFO - Chain [1] done processing\n",
      "14:35:41 - cmdstanpy - INFO - Chain [1] start processing\n",
      "14:35:41 - cmdstanpy - INFO - Chain [1] done processing\n",
      "14:35:41 - cmdstanpy - INFO - Chain [1] start processing\n",
      "14:35:41 - cmdstanpy - INFO - Chain [1] done processing\n",
      "14:35:41 - cmdstanpy - INFO - Chain [1] start processing\n",
      "14:35:41 - cmdstanpy - INFO - Chain [1] done processing\n",
      "14:35:41 - cmdstanpy - INFO - Chain [1] start processing\n",
      "14:35:41 - cmdstanpy - INFO - Chain [1] done processing\n",
      "14:35:42 - cmdstanpy - INFO - Chain [1] start processing\n",
      "14:35:42 - cmdstanpy - INFO - Chain [1] done processing\n",
      "14:35:42 - cmdstanpy - INFO - Chain [1] start processing\n",
      "14:35:42 - cmdstanpy - INFO - Chain [1] done processing\n",
      "14:35:42 - cmdstanpy - INFO - Chain [1] start processing\n",
      "14:35:42 - cmdstanpy - INFO - Chain [1] done processing\n",
      "14:35:42 - cmdstanpy - INFO - Chain [1] start processing\n",
      "14:35:42 - cmdstanpy - INFO - Chain [1] done processing\n",
      "14:35:42 - cmdstanpy - INFO - Chain [1] start processing\n",
      "14:35:42 - cmdstanpy - INFO - Chain [1] done processing\n",
      "14:35:43 - cmdstanpy - INFO - Chain [1] start processing\n",
      "14:35:43 - cmdstanpy - INFO - Chain [1] done processing\n",
      "14:35:43 - cmdstanpy - INFO - Chain [1] start processing\n",
      "14:35:43 - cmdstanpy - INFO - Chain [1] done processing\n",
      "14:35:43 - cmdstanpy - INFO - Chain [1] start processing\n",
      "14:35:43 - cmdstanpy - INFO - Chain [1] done processing\n",
      "14:35:43 - cmdstanpy - INFO - Chain [1] start processing\n",
      "14:35:43 - cmdstanpy - INFO - Chain [1] done processing\n",
      "14:35:43 - cmdstanpy - INFO - Chain [1] start processing\n",
      "14:35:43 - cmdstanpy - INFO - Chain [1] done processing\n",
      "14:35:43 - cmdstanpy - INFO - Chain [1] start processing\n",
      "14:35:43 - cmdstanpy - INFO - Chain [1] done processing\n",
      "14:35:44 - cmdstanpy - INFO - Chain [1] start processing\n",
      "14:35:44 - cmdstanpy - INFO - Chain [1] done processing\n",
      "14:35:44 - cmdstanpy - INFO - Chain [1] start processing\n",
      "14:35:44 - cmdstanpy - INFO - Chain [1] done processing\n",
      "14:35:44 - cmdstanpy - INFO - Chain [1] start processing\n",
      "14:35:44 - cmdstanpy - INFO - Chain [1] done processing\n",
      "14:35:44 - cmdstanpy - INFO - Chain [1] start processing\n",
      "14:35:44 - cmdstanpy - INFO - Chain [1] done processing\n",
      "14:35:44 - cmdstanpy - INFO - Chain [1] start processing\n",
      "14:35:44 - cmdstanpy - INFO - Chain [1] done processing\n",
      "14:35:44 - cmdstanpy - INFO - Chain [1] start processing\n",
      "14:35:45 - cmdstanpy - INFO - Chain [1] done processing\n",
      "14:35:45 - cmdstanpy - INFO - Chain [1] start processing\n",
      "14:35:45 - cmdstanpy - INFO - Chain [1] done processing\n",
      "14:35:45 - cmdstanpy - INFO - Chain [1] start processing\n",
      "14:35:45 - cmdstanpy - INFO - Chain [1] done processing\n",
      "14:35:45 - cmdstanpy - INFO - Chain [1] start processing\n",
      "14:35:45 - cmdstanpy - INFO - Chain [1] done processing\n",
      "14:35:45 - cmdstanpy - INFO - Chain [1] start processing\n",
      "14:35:45 - cmdstanpy - INFO - Chain [1] done processing\n",
      "14:35:45 - cmdstanpy - INFO - Chain [1] start processing\n",
      "14:35:45 - cmdstanpy - INFO - Chain [1] done processing\n",
      "14:35:46 - cmdstanpy - INFO - Chain [1] start processing\n",
      "14:35:46 - cmdstanpy - INFO - Chain [1] done processing\n"
     ]
    },
    {
     "data": {
      "text/html": [
       "<div>\n",
       "<style scoped>\n",
       "    .dataframe tbody tr th:only-of-type {\n",
       "        vertical-align: middle;\n",
       "    }\n",
       "\n",
       "    .dataframe tbody tr th {\n",
       "        vertical-align: top;\n",
       "    }\n",
       "\n",
       "    .dataframe thead th {\n",
       "        text-align: right;\n",
       "    }\n",
       "</style>\n",
       "<table border=\"1\" class=\"dataframe\">\n",
       "  <thead>\n",
       "    <tr style=\"text-align: right;\">\n",
       "      <th></th>\n",
       "      <th>The Barbecue Chicken Pizza</th>\n",
       "      <th>The Big Meat Pizza</th>\n",
       "      <th>The Brie Carre Pizza</th>\n",
       "      <th>The Calabrese Pizza</th>\n",
       "      <th>The California Chicken Pizza</th>\n",
       "      <th>The Chicken Alfredo Pizza</th>\n",
       "      <th>The Chicken Pesto Pizza</th>\n",
       "      <th>The Classic Deluxe Pizza</th>\n",
       "      <th>The Five Cheese Pizza</th>\n",
       "      <th>The Four Cheese Pizza</th>\n",
       "      <th>...</th>\n",
       "      <th>The Prosciutto and Arugula Pizza</th>\n",
       "      <th>The Sicilian Pizza</th>\n",
       "      <th>The Soppressata Pizza</th>\n",
       "      <th>The Southwest Chicken Pizza</th>\n",
       "      <th>The Spicy Italian Pizza</th>\n",
       "      <th>The Spinach Pesto Pizza</th>\n",
       "      <th>The Spinach Supreme Pizza</th>\n",
       "      <th>The Spinach and Feta Pizza</th>\n",
       "      <th>The Thai Chicken Pizza</th>\n",
       "      <th>The Vegetables + Vegetables Pizza</th>\n",
       "    </tr>\n",
       "  </thead>\n",
       "  <tbody>\n",
       "    <tr>\n",
       "      <th>2016-01-01</th>\n",
       "      <td>7.07</td>\n",
       "      <td>4.96</td>\n",
       "      <td>1.47</td>\n",
       "      <td>2.83</td>\n",
       "      <td>6.89</td>\n",
       "      <td>3.37</td>\n",
       "      <td>3.19</td>\n",
       "      <td>7.65</td>\n",
       "      <td>3.98</td>\n",
       "      <td>5.62</td>\n",
       "      <td>...</td>\n",
       "      <td>4.64</td>\n",
       "      <td>6.05</td>\n",
       "      <td>2.85</td>\n",
       "      <td>5.85</td>\n",
       "      <td>5.59</td>\n",
       "      <td>3.42</td>\n",
       "      <td>2.95</td>\n",
       "      <td>4.58</td>\n",
       "      <td>6.70</td>\n",
       "      <td>4.38</td>\n",
       "    </tr>\n",
       "    <tr>\n",
       "      <th>2016-01-02</th>\n",
       "      <td>6.33</td>\n",
       "      <td>5.01</td>\n",
       "      <td>1.21</td>\n",
       "      <td>2.84</td>\n",
       "      <td>5.83</td>\n",
       "      <td>2.93</td>\n",
       "      <td>2.47</td>\n",
       "      <td>7.07</td>\n",
       "      <td>2.92</td>\n",
       "      <td>5.54</td>\n",
       "      <td>...</td>\n",
       "      <td>3.71</td>\n",
       "      <td>6.02</td>\n",
       "      <td>2.54</td>\n",
       "      <td>5.01</td>\n",
       "      <td>5.33</td>\n",
       "      <td>2.75</td>\n",
       "      <td>2.36</td>\n",
       "      <td>3.46</td>\n",
       "      <td>6.38</td>\n",
       "      <td>4.37</td>\n",
       "    </tr>\n",
       "    <tr>\n",
       "      <th>2016-01-03</th>\n",
       "      <td>4.74</td>\n",
       "      <td>4.35</td>\n",
       "      <td>1.52</td>\n",
       "      <td>2.28</td>\n",
       "      <td>5.07</td>\n",
       "      <td>2.14</td>\n",
       "      <td>2.50</td>\n",
       "      <td>5.77</td>\n",
       "      <td>2.75</td>\n",
       "      <td>4.36</td>\n",
       "      <td>...</td>\n",
       "      <td>3.59</td>\n",
       "      <td>4.40</td>\n",
       "      <td>2.13</td>\n",
       "      <td>4.27</td>\n",
       "      <td>4.24</td>\n",
       "      <td>2.57</td>\n",
       "      <td>2.04</td>\n",
       "      <td>3.35</td>\n",
       "      <td>5.47</td>\n",
       "      <td>3.77</td>\n",
       "    </tr>\n",
       "    <tr>\n",
       "      <th>2016-01-04</th>\n",
       "      <td>5.39</td>\n",
       "      <td>4.64</td>\n",
       "      <td>1.43</td>\n",
       "      <td>3.09</td>\n",
       "      <td>5.97</td>\n",
       "      <td>2.75</td>\n",
       "      <td>2.77</td>\n",
       "      <td>6.81</td>\n",
       "      <td>3.03</td>\n",
       "      <td>4.70</td>\n",
       "      <td>...</td>\n",
       "      <td>3.64</td>\n",
       "      <td>4.41</td>\n",
       "      <td>2.13</td>\n",
       "      <td>5.31</td>\n",
       "      <td>4.73</td>\n",
       "      <td>2.46</td>\n",
       "      <td>2.20</td>\n",
       "      <td>3.94</td>\n",
       "      <td>6.82</td>\n",
       "      <td>3.96</td>\n",
       "    </tr>\n",
       "    <tr>\n",
       "      <th>2016-01-05</th>\n",
       "      <td>5.76</td>\n",
       "      <td>4.30</td>\n",
       "      <td>1.57</td>\n",
       "      <td>2.74</td>\n",
       "      <td>5.35</td>\n",
       "      <td>2.49</td>\n",
       "      <td>2.00</td>\n",
       "      <td>6.94</td>\n",
       "      <td>3.56</td>\n",
       "      <td>4.70</td>\n",
       "      <td>...</td>\n",
       "      <td>4.19</td>\n",
       "      <td>4.82</td>\n",
       "      <td>3.02</td>\n",
       "      <td>5.10</td>\n",
       "      <td>5.04</td>\n",
       "      <td>2.74</td>\n",
       "      <td>2.22</td>\n",
       "      <td>3.34</td>\n",
       "      <td>6.11</td>\n",
       "      <td>3.54</td>\n",
       "    </tr>\n",
       "    <tr>\n",
       "      <th>2016-01-06</th>\n",
       "      <td>5.47</td>\n",
       "      <td>4.59</td>\n",
       "      <td>1.59</td>\n",
       "      <td>2.90</td>\n",
       "      <td>5.66</td>\n",
       "      <td>2.54</td>\n",
       "      <td>2.76</td>\n",
       "      <td>6.59</td>\n",
       "      <td>3.13</td>\n",
       "      <td>5.24</td>\n",
       "      <td>...</td>\n",
       "      <td>3.75</td>\n",
       "      <td>5.43</td>\n",
       "      <td>2.56</td>\n",
       "      <td>4.80</td>\n",
       "      <td>5.04</td>\n",
       "      <td>2.45</td>\n",
       "      <td>2.26</td>\n",
       "      <td>3.84</td>\n",
       "      <td>5.94</td>\n",
       "      <td>4.29</td>\n",
       "    </tr>\n",
       "    <tr>\n",
       "      <th>2016-01-07</th>\n",
       "      <td>6.48</td>\n",
       "      <td>4.99</td>\n",
       "      <td>1.73</td>\n",
       "      <td>2.84</td>\n",
       "      <td>6.01</td>\n",
       "      <td>2.73</td>\n",
       "      <td>2.95</td>\n",
       "      <td>6.94</td>\n",
       "      <td>3.52</td>\n",
       "      <td>5.71</td>\n",
       "      <td>...</td>\n",
       "      <td>3.72</td>\n",
       "      <td>5.40</td>\n",
       "      <td>2.61</td>\n",
       "      <td>5.44</td>\n",
       "      <td>5.59</td>\n",
       "      <td>2.65</td>\n",
       "      <td>2.48</td>\n",
       "      <td>3.99</td>\n",
       "      <td>6.50</td>\n",
       "      <td>4.51</td>\n",
       "    </tr>\n",
       "  </tbody>\n",
       "</table>\n",
       "<p>7 rows × 32 columns</p>\n",
       "</div>"
      ],
      "text/plain": [
       "            The Barbecue Chicken Pizza  The Big Meat Pizza  \\\n",
       "2016-01-01                        7.07                4.96   \n",
       "2016-01-02                        6.33                5.01   \n",
       "2016-01-03                        4.74                4.35   \n",
       "2016-01-04                        5.39                4.64   \n",
       "2016-01-05                        5.76                4.30   \n",
       "2016-01-06                        5.47                4.59   \n",
       "2016-01-07                        6.48                4.99   \n",
       "\n",
       "            The Brie Carre Pizza  The Calabrese Pizza  \\\n",
       "2016-01-01                  1.47                 2.83   \n",
       "2016-01-02                  1.21                 2.84   \n",
       "2016-01-03                  1.52                 2.28   \n",
       "2016-01-04                  1.43                 3.09   \n",
       "2016-01-05                  1.57                 2.74   \n",
       "2016-01-06                  1.59                 2.90   \n",
       "2016-01-07                  1.73                 2.84   \n",
       "\n",
       "            The California Chicken Pizza  The Chicken Alfredo Pizza  \\\n",
       "2016-01-01                          6.89                       3.37   \n",
       "2016-01-02                          5.83                       2.93   \n",
       "2016-01-03                          5.07                       2.14   \n",
       "2016-01-04                          5.97                       2.75   \n",
       "2016-01-05                          5.35                       2.49   \n",
       "2016-01-06                          5.66                       2.54   \n",
       "2016-01-07                          6.01                       2.73   \n",
       "\n",
       "            The Chicken Pesto Pizza  The Classic Deluxe Pizza  \\\n",
       "2016-01-01                     3.19                      7.65   \n",
       "2016-01-02                     2.47                      7.07   \n",
       "2016-01-03                     2.50                      5.77   \n",
       "2016-01-04                     2.77                      6.81   \n",
       "2016-01-05                     2.00                      6.94   \n",
       "2016-01-06                     2.76                      6.59   \n",
       "2016-01-07                     2.95                      6.94   \n",
       "\n",
       "            The Five Cheese Pizza  The Four Cheese Pizza  ...  \\\n",
       "2016-01-01                   3.98                   5.62  ...   \n",
       "2016-01-02                   2.92                   5.54  ...   \n",
       "2016-01-03                   2.75                   4.36  ...   \n",
       "2016-01-04                   3.03                   4.70  ...   \n",
       "2016-01-05                   3.56                   4.70  ...   \n",
       "2016-01-06                   3.13                   5.24  ...   \n",
       "2016-01-07                   3.52                   5.71  ...   \n",
       "\n",
       "            The Prosciutto and Arugula Pizza  The Sicilian Pizza  \\\n",
       "2016-01-01                              4.64                6.05   \n",
       "2016-01-02                              3.71                6.02   \n",
       "2016-01-03                              3.59                4.40   \n",
       "2016-01-04                              3.64                4.41   \n",
       "2016-01-05                              4.19                4.82   \n",
       "2016-01-06                              3.75                5.43   \n",
       "2016-01-07                              3.72                5.40   \n",
       "\n",
       "            The Soppressata Pizza  The Southwest Chicken Pizza  \\\n",
       "2016-01-01                   2.85                         5.85   \n",
       "2016-01-02                   2.54                         5.01   \n",
       "2016-01-03                   2.13                         4.27   \n",
       "2016-01-04                   2.13                         5.31   \n",
       "2016-01-05                   3.02                         5.10   \n",
       "2016-01-06                   2.56                         4.80   \n",
       "2016-01-07                   2.61                         5.44   \n",
       "\n",
       "            The Spicy Italian Pizza  The Spinach Pesto Pizza  \\\n",
       "2016-01-01                     5.59                     3.42   \n",
       "2016-01-02                     5.33                     2.75   \n",
       "2016-01-03                     4.24                     2.57   \n",
       "2016-01-04                     4.73                     2.46   \n",
       "2016-01-05                     5.04                     2.74   \n",
       "2016-01-06                     5.04                     2.45   \n",
       "2016-01-07                     5.59                     2.65   \n",
       "\n",
       "            The Spinach Supreme Pizza  The Spinach and Feta Pizza  \\\n",
       "2016-01-01                       2.95                        4.58   \n",
       "2016-01-02                       2.36                        3.46   \n",
       "2016-01-03                       2.04                        3.35   \n",
       "2016-01-04                       2.20                        3.94   \n",
       "2016-01-05                       2.22                        3.34   \n",
       "2016-01-06                       2.26                        3.84   \n",
       "2016-01-07                       2.48                        3.99   \n",
       "\n",
       "            The Thai Chicken Pizza  The Vegetables + Vegetables Pizza  \n",
       "2016-01-01                    6.70                               4.38  \n",
       "2016-01-02                    6.38                               4.37  \n",
       "2016-01-03                    5.47                               3.77  \n",
       "2016-01-04                    6.82                               3.96  \n",
       "2016-01-05                    6.11                               3.54  \n",
       "2016-01-06                    5.94                               4.29  \n",
       "2016-01-07                    6.50                               4.51  \n",
       "\n",
       "[7 rows x 32 columns]"
      ]
     },
     "execution_count": 417,
     "metadata": {},
     "output_type": "execute_result"
    }
   ],
   "source": [
    "# Initialize dictionary to store forecasts\n",
    "all_forecasts = {}\n",
    "\n",
    "# Loop through each pizza type\n",
    "for pizza in data.columns:  # data contains daily sales of each pizza\n",
    "    one_pizza_sales = data[pizza].reset_index()\n",
    "    one_pizza_sales.columns = ['ds', 'y']  # Prophet requires columns ['ds', 'y']\n",
    "\n",
    "    prophet_model = Prophet()\n",
    "    prophet_model.fit(one_pizza_sales)\n",
    "\n",
    "    # Forecast for the next 7 days\n",
    "    future_dates = prophet_model.make_future_dataframe(periods=7)\n",
    "    forecast = prophet_model.predict(future_dates)\n",
    "    \n",
    "    # Store forecasted values (last 7 days)\n",
    "    all_forecasts[pizza] = forecast.iloc[-7:]['yhat'].values\n",
    "\n",
    "# Convert forecasts into a DataFrame\n",
    "forecast_df = pd.DataFrame(all_forecasts)\n",
    "forecast_df.index = pd.date_range(start=data.index[-1] + pd.Timedelta(days=1), periods=7)\n",
    "forecast_df"
   ]
  },
  {
   "cell_type": "code",
   "execution_count": 419,
   "id": "79c66b35-2e71-4498-a3d8-709c05712b09",
   "metadata": {},
   "outputs": [
    {
     "data": {
      "text/html": [
       "<div>\n",
       "<style scoped>\n",
       "    .dataframe tbody tr th:only-of-type {\n",
       "        vertical-align: middle;\n",
       "    }\n",
       "\n",
       "    .dataframe tbody tr th {\n",
       "        vertical-align: top;\n",
       "    }\n",
       "\n",
       "    .dataframe thead th {\n",
       "        text-align: right;\n",
       "    }\n",
       "</style>\n",
       "<table border=\"1\" class=\"dataframe\">\n",
       "  <thead>\n",
       "    <tr style=\"text-align: right;\">\n",
       "      <th></th>\n",
       "      <th>The Barbecue Chicken Pizza</th>\n",
       "      <th>The Big Meat Pizza</th>\n",
       "      <th>The Brie Carre Pizza</th>\n",
       "      <th>The Calabrese Pizza</th>\n",
       "      <th>The California Chicken Pizza</th>\n",
       "      <th>The Chicken Alfredo Pizza</th>\n",
       "      <th>The Chicken Pesto Pizza</th>\n",
       "      <th>The Classic Deluxe Pizza</th>\n",
       "      <th>The Five Cheese Pizza</th>\n",
       "      <th>The Four Cheese Pizza</th>\n",
       "      <th>...</th>\n",
       "      <th>The Prosciutto and Arugula Pizza</th>\n",
       "      <th>The Sicilian Pizza</th>\n",
       "      <th>The Soppressata Pizza</th>\n",
       "      <th>The Southwest Chicken Pizza</th>\n",
       "      <th>The Spicy Italian Pizza</th>\n",
       "      <th>The Spinach Pesto Pizza</th>\n",
       "      <th>The Spinach Supreme Pizza</th>\n",
       "      <th>The Spinach and Feta Pizza</th>\n",
       "      <th>The Thai Chicken Pizza</th>\n",
       "      <th>The Vegetables + Vegetables Pizza</th>\n",
       "    </tr>\n",
       "  </thead>\n",
       "  <tbody>\n",
       "    <tr>\n",
       "      <th>2016-01-01</th>\n",
       "      <td>7.00</td>\n",
       "      <td>5.00</td>\n",
       "      <td>1.00</td>\n",
       "      <td>3.00</td>\n",
       "      <td>7.00</td>\n",
       "      <td>3.00</td>\n",
       "      <td>3.00</td>\n",
       "      <td>8.00</td>\n",
       "      <td>4.00</td>\n",
       "      <td>6.00</td>\n",
       "      <td>...</td>\n",
       "      <td>5.00</td>\n",
       "      <td>6.00</td>\n",
       "      <td>3.00</td>\n",
       "      <td>6.00</td>\n",
       "      <td>6.00</td>\n",
       "      <td>3.00</td>\n",
       "      <td>3.00</td>\n",
       "      <td>5.00</td>\n",
       "      <td>7.00</td>\n",
       "      <td>4.00</td>\n",
       "    </tr>\n",
       "    <tr>\n",
       "      <th>2016-01-02</th>\n",
       "      <td>6.00</td>\n",
       "      <td>5.00</td>\n",
       "      <td>1.00</td>\n",
       "      <td>3.00</td>\n",
       "      <td>6.00</td>\n",
       "      <td>3.00</td>\n",
       "      <td>2.00</td>\n",
       "      <td>7.00</td>\n",
       "      <td>3.00</td>\n",
       "      <td>6.00</td>\n",
       "      <td>...</td>\n",
       "      <td>4.00</td>\n",
       "      <td>6.00</td>\n",
       "      <td>3.00</td>\n",
       "      <td>5.00</td>\n",
       "      <td>5.00</td>\n",
       "      <td>3.00</td>\n",
       "      <td>2.00</td>\n",
       "      <td>3.00</td>\n",
       "      <td>6.00</td>\n",
       "      <td>4.00</td>\n",
       "    </tr>\n",
       "    <tr>\n",
       "      <th>2016-01-03</th>\n",
       "      <td>5.00</td>\n",
       "      <td>4.00</td>\n",
       "      <td>2.00</td>\n",
       "      <td>2.00</td>\n",
       "      <td>5.00</td>\n",
       "      <td>2.00</td>\n",
       "      <td>3.00</td>\n",
       "      <td>6.00</td>\n",
       "      <td>3.00</td>\n",
       "      <td>4.00</td>\n",
       "      <td>...</td>\n",
       "      <td>4.00</td>\n",
       "      <td>4.00</td>\n",
       "      <td>2.00</td>\n",
       "      <td>4.00</td>\n",
       "      <td>4.00</td>\n",
       "      <td>3.00</td>\n",
       "      <td>2.00</td>\n",
       "      <td>3.00</td>\n",
       "      <td>5.00</td>\n",
       "      <td>4.00</td>\n",
       "    </tr>\n",
       "    <tr>\n",
       "      <th>2016-01-04</th>\n",
       "      <td>5.00</td>\n",
       "      <td>5.00</td>\n",
       "      <td>1.00</td>\n",
       "      <td>3.00</td>\n",
       "      <td>6.00</td>\n",
       "      <td>3.00</td>\n",
       "      <td>3.00</td>\n",
       "      <td>7.00</td>\n",
       "      <td>3.00</td>\n",
       "      <td>5.00</td>\n",
       "      <td>...</td>\n",
       "      <td>4.00</td>\n",
       "      <td>4.00</td>\n",
       "      <td>2.00</td>\n",
       "      <td>5.00</td>\n",
       "      <td>5.00</td>\n",
       "      <td>2.00</td>\n",
       "      <td>2.00</td>\n",
       "      <td>4.00</td>\n",
       "      <td>7.00</td>\n",
       "      <td>4.00</td>\n",
       "    </tr>\n",
       "    <tr>\n",
       "      <th>2016-01-05</th>\n",
       "      <td>6.00</td>\n",
       "      <td>4.00</td>\n",
       "      <td>2.00</td>\n",
       "      <td>3.00</td>\n",
       "      <td>5.00</td>\n",
       "      <td>2.00</td>\n",
       "      <td>2.00</td>\n",
       "      <td>7.00</td>\n",
       "      <td>4.00</td>\n",
       "      <td>5.00</td>\n",
       "      <td>...</td>\n",
       "      <td>4.00</td>\n",
       "      <td>5.00</td>\n",
       "      <td>3.00</td>\n",
       "      <td>5.00</td>\n",
       "      <td>5.00</td>\n",
       "      <td>3.00</td>\n",
       "      <td>2.00</td>\n",
       "      <td>3.00</td>\n",
       "      <td>6.00</td>\n",
       "      <td>4.00</td>\n",
       "    </tr>\n",
       "    <tr>\n",
       "      <th>2016-01-06</th>\n",
       "      <td>5.00</td>\n",
       "      <td>5.00</td>\n",
       "      <td>2.00</td>\n",
       "      <td>3.00</td>\n",
       "      <td>6.00</td>\n",
       "      <td>3.00</td>\n",
       "      <td>3.00</td>\n",
       "      <td>7.00</td>\n",
       "      <td>3.00</td>\n",
       "      <td>5.00</td>\n",
       "      <td>...</td>\n",
       "      <td>4.00</td>\n",
       "      <td>5.00</td>\n",
       "      <td>3.00</td>\n",
       "      <td>5.00</td>\n",
       "      <td>5.00</td>\n",
       "      <td>2.00</td>\n",
       "      <td>2.00</td>\n",
       "      <td>4.00</td>\n",
       "      <td>6.00</td>\n",
       "      <td>4.00</td>\n",
       "    </tr>\n",
       "    <tr>\n",
       "      <th>2016-01-07</th>\n",
       "      <td>6.00</td>\n",
       "      <td>5.00</td>\n",
       "      <td>2.00</td>\n",
       "      <td>3.00</td>\n",
       "      <td>6.00</td>\n",
       "      <td>3.00</td>\n",
       "      <td>3.00</td>\n",
       "      <td>7.00</td>\n",
       "      <td>4.00</td>\n",
       "      <td>6.00</td>\n",
       "      <td>...</td>\n",
       "      <td>4.00</td>\n",
       "      <td>5.00</td>\n",
       "      <td>3.00</td>\n",
       "      <td>5.00</td>\n",
       "      <td>6.00</td>\n",
       "      <td>3.00</td>\n",
       "      <td>2.00</td>\n",
       "      <td>4.00</td>\n",
       "      <td>7.00</td>\n",
       "      <td>5.00</td>\n",
       "    </tr>\n",
       "  </tbody>\n",
       "</table>\n",
       "<p>7 rows × 32 columns</p>\n",
       "</div>"
      ],
      "text/plain": [
       "            The Barbecue Chicken Pizza  The Big Meat Pizza  \\\n",
       "2016-01-01                        7.00                5.00   \n",
       "2016-01-02                        6.00                5.00   \n",
       "2016-01-03                        5.00                4.00   \n",
       "2016-01-04                        5.00                5.00   \n",
       "2016-01-05                        6.00                4.00   \n",
       "2016-01-06                        5.00                5.00   \n",
       "2016-01-07                        6.00                5.00   \n",
       "\n",
       "            The Brie Carre Pizza  The Calabrese Pizza  \\\n",
       "2016-01-01                  1.00                 3.00   \n",
       "2016-01-02                  1.00                 3.00   \n",
       "2016-01-03                  2.00                 2.00   \n",
       "2016-01-04                  1.00                 3.00   \n",
       "2016-01-05                  2.00                 3.00   \n",
       "2016-01-06                  2.00                 3.00   \n",
       "2016-01-07                  2.00                 3.00   \n",
       "\n",
       "            The California Chicken Pizza  The Chicken Alfredo Pizza  \\\n",
       "2016-01-01                          7.00                       3.00   \n",
       "2016-01-02                          6.00                       3.00   \n",
       "2016-01-03                          5.00                       2.00   \n",
       "2016-01-04                          6.00                       3.00   \n",
       "2016-01-05                          5.00                       2.00   \n",
       "2016-01-06                          6.00                       3.00   \n",
       "2016-01-07                          6.00                       3.00   \n",
       "\n",
       "            The Chicken Pesto Pizza  The Classic Deluxe Pizza  \\\n",
       "2016-01-01                     3.00                      8.00   \n",
       "2016-01-02                     2.00                      7.00   \n",
       "2016-01-03                     3.00                      6.00   \n",
       "2016-01-04                     3.00                      7.00   \n",
       "2016-01-05                     2.00                      7.00   \n",
       "2016-01-06                     3.00                      7.00   \n",
       "2016-01-07                     3.00                      7.00   \n",
       "\n",
       "            The Five Cheese Pizza  The Four Cheese Pizza  ...  \\\n",
       "2016-01-01                   4.00                   6.00  ...   \n",
       "2016-01-02                   3.00                   6.00  ...   \n",
       "2016-01-03                   3.00                   4.00  ...   \n",
       "2016-01-04                   3.00                   5.00  ...   \n",
       "2016-01-05                   4.00                   5.00  ...   \n",
       "2016-01-06                   3.00                   5.00  ...   \n",
       "2016-01-07                   4.00                   6.00  ...   \n",
       "\n",
       "            The Prosciutto and Arugula Pizza  The Sicilian Pizza  \\\n",
       "2016-01-01                              5.00                6.00   \n",
       "2016-01-02                              4.00                6.00   \n",
       "2016-01-03                              4.00                4.00   \n",
       "2016-01-04                              4.00                4.00   \n",
       "2016-01-05                              4.00                5.00   \n",
       "2016-01-06                              4.00                5.00   \n",
       "2016-01-07                              4.00                5.00   \n",
       "\n",
       "            The Soppressata Pizza  The Southwest Chicken Pizza  \\\n",
       "2016-01-01                   3.00                         6.00   \n",
       "2016-01-02                   3.00                         5.00   \n",
       "2016-01-03                   2.00                         4.00   \n",
       "2016-01-04                   2.00                         5.00   \n",
       "2016-01-05                   3.00                         5.00   \n",
       "2016-01-06                   3.00                         5.00   \n",
       "2016-01-07                   3.00                         5.00   \n",
       "\n",
       "            The Spicy Italian Pizza  The Spinach Pesto Pizza  \\\n",
       "2016-01-01                     6.00                     3.00   \n",
       "2016-01-02                     5.00                     3.00   \n",
       "2016-01-03                     4.00                     3.00   \n",
       "2016-01-04                     5.00                     2.00   \n",
       "2016-01-05                     5.00                     3.00   \n",
       "2016-01-06                     5.00                     2.00   \n",
       "2016-01-07                     6.00                     3.00   \n",
       "\n",
       "            The Spinach Supreme Pizza  The Spinach and Feta Pizza  \\\n",
       "2016-01-01                       3.00                        5.00   \n",
       "2016-01-02                       2.00                        3.00   \n",
       "2016-01-03                       2.00                        3.00   \n",
       "2016-01-04                       2.00                        4.00   \n",
       "2016-01-05                       2.00                        3.00   \n",
       "2016-01-06                       2.00                        4.00   \n",
       "2016-01-07                       2.00                        4.00   \n",
       "\n",
       "            The Thai Chicken Pizza  The Vegetables + Vegetables Pizza  \n",
       "2016-01-01                    7.00                               4.00  \n",
       "2016-01-02                    6.00                               4.00  \n",
       "2016-01-03                    5.00                               4.00  \n",
       "2016-01-04                    7.00                               4.00  \n",
       "2016-01-05                    6.00                               4.00  \n",
       "2016-01-06                    6.00                               4.00  \n",
       "2016-01-07                    7.00                               5.00  \n",
       "\n",
       "[7 rows x 32 columns]"
      ]
     },
     "execution_count": 419,
     "metadata": {},
     "output_type": "execute_result"
    }
   ],
   "source": [
    "# Round the forecasted number of pizzas to the nearest whole number\n",
    "forecast_df = forecast_df.round()\n",
    "\n",
    "# Display the updated forecast DataFrame\n",
    "forecast_df"
   ]
  },
  {
   "cell_type": "markdown",
   "id": "472e2387-4218-4bbd-bf4b-b8738a3b0f69",
   "metadata": {},
   "source": [
    "## Ingredient Calculation"
   ]
  },
  {
   "cell_type": "code",
   "execution_count": 421,
   "id": "68452dde-11aa-402a-bcb0-f0dd4d69bfef",
   "metadata": {},
   "outputs": [
    {
     "data": {
      "text/html": [
       "<div>\n",
       "<style scoped>\n",
       "    .dataframe tbody tr th:only-of-type {\n",
       "        vertical-align: middle;\n",
       "    }\n",
       "\n",
       "    .dataframe tbody tr th {\n",
       "        vertical-align: top;\n",
       "    }\n",
       "\n",
       "    .dataframe thead th {\n",
       "        text-align: right;\n",
       "    }\n",
       "</style>\n",
       "<table border=\"1\" class=\"dataframe\">\n",
       "  <thead>\n",
       "    <tr style=\"text-align: right;\">\n",
       "      <th></th>\n",
       "      <th>Unnamed: 0</th>\n",
       "      <th>pizza_name_id</th>\n",
       "      <th>pizza_name</th>\n",
       "      <th>pizza_ingredients</th>\n",
       "      <th>Items_Qty_In_Grams</th>\n",
       "    </tr>\n",
       "  </thead>\n",
       "  <tbody>\n",
       "    <tr>\n",
       "      <th>0</th>\n",
       "      <td>0</td>\n",
       "      <td>bbq_ckn_l</td>\n",
       "      <td>The Barbecue Chicken Pizza</td>\n",
       "      <td>Barbecued Chicken</td>\n",
       "      <td>40.00</td>\n",
       "    </tr>\n",
       "    <tr>\n",
       "      <th>1</th>\n",
       "      <td>1</td>\n",
       "      <td>bbq_ckn_l</td>\n",
       "      <td>The Barbecue Chicken Pizza</td>\n",
       "      <td>Red Peppers</td>\n",
       "      <td>15.00</td>\n",
       "    </tr>\n",
       "    <tr>\n",
       "      <th>2</th>\n",
       "      <td>2</td>\n",
       "      <td>bbq_ckn_l</td>\n",
       "      <td>The Barbecue Chicken Pizza</td>\n",
       "      <td>Green Peppers</td>\n",
       "      <td>20.00</td>\n",
       "    </tr>\n",
       "    <tr>\n",
       "      <th>3</th>\n",
       "      <td>3</td>\n",
       "      <td>bbq_ckn_l</td>\n",
       "      <td>The Barbecue Chicken Pizza</td>\n",
       "      <td>Tomatoes</td>\n",
       "      <td>30.00</td>\n",
       "    </tr>\n",
       "    <tr>\n",
       "      <th>4</th>\n",
       "      <td>4</td>\n",
       "      <td>bbq_ckn_l</td>\n",
       "      <td>The Barbecue Chicken Pizza</td>\n",
       "      <td>Red Onions</td>\n",
       "      <td>60.00</td>\n",
       "    </tr>\n",
       "  </tbody>\n",
       "</table>\n",
       "</div>"
      ],
      "text/plain": [
       "   Unnamed: 0 pizza_name_id                  pizza_name  pizza_ingredients  \\\n",
       "0           0     bbq_ckn_l  The Barbecue Chicken Pizza  Barbecued Chicken   \n",
       "1           1     bbq_ckn_l  The Barbecue Chicken Pizza        Red Peppers   \n",
       "2           2     bbq_ckn_l  The Barbecue Chicken Pizza      Green Peppers   \n",
       "3           3     bbq_ckn_l  The Barbecue Chicken Pizza           Tomatoes   \n",
       "4           4     bbq_ckn_l  The Barbecue Chicken Pizza         Red Onions   \n",
       "\n",
       "   Items_Qty_In_Grams  \n",
       "0               40.00  \n",
       "1               15.00  \n",
       "2               20.00  \n",
       "3               30.00  \n",
       "4               60.00  "
      ]
     },
     "execution_count": 421,
     "metadata": {},
     "output_type": "execute_result"
    }
   ],
   "source": [
    "ing_data.head()"
   ]
  },
  {
   "cell_type": "code",
   "execution_count": 444,
   "id": "6b47de34-2fd0-4e23-bbec-c15178150bc0",
   "metadata": {},
   "outputs": [
    {
     "name": "stdout",
     "output_type": "stream",
     "text": [
      "Final Purchase Order:\n"
     ]
    },
    {
     "data": {
      "text/html": [
       "<div>\n",
       "<style scoped>\n",
       "    .dataframe tbody tr th:only-of-type {\n",
       "        vertical-align: middle;\n",
       "    }\n",
       "\n",
       "    .dataframe tbody tr th {\n",
       "        vertical-align: top;\n",
       "    }\n",
       "\n",
       "    .dataframe thead th {\n",
       "        text-align: right;\n",
       "    }\n",
       "</style>\n",
       "<table border=\"1\" class=\"dataframe\">\n",
       "  <thead>\n",
       "    <tr style=\"text-align: right;\">\n",
       "      <th></th>\n",
       "      <th>ingredient</th>\n",
       "      <th>quantity_needed</th>\n",
       "      <th>unit</th>\n",
       "    </tr>\n",
       "  </thead>\n",
       "  <tbody>\n",
       "    <tr>\n",
       "      <th>0</th>\n",
       "      <td>?duja Salami</td>\n",
       "      <td>2400.00</td>\n",
       "      <td>grams</td>\n",
       "    </tr>\n",
       "    <tr>\n",
       "      <th>1</th>\n",
       "      <td>Alfredo Sauce</td>\n",
       "      <td>855.00</td>\n",
       "      <td>grams</td>\n",
       "    </tr>\n",
       "    <tr>\n",
       "      <th>2</th>\n",
       "      <td>Anchovies</td>\n",
       "      <td>2380.00</td>\n",
       "      <td>grams</td>\n",
       "    </tr>\n",
       "    <tr>\n",
       "      <th>3</th>\n",
       "      <td>Artichokes</td>\n",
       "      <td>6750.00</td>\n",
       "      <td>grams</td>\n",
       "    </tr>\n",
       "    <tr>\n",
       "      <th>4</th>\n",
       "      <td>Arugula</td>\n",
       "      <td>870.00</td>\n",
       "      <td>grams</td>\n",
       "    </tr>\n",
       "    <tr>\n",
       "      <th>5</th>\n",
       "      <td>Asiago Cheese</td>\n",
       "      <td>3660.00</td>\n",
       "      <td>grams</td>\n",
       "    </tr>\n",
       "    <tr>\n",
       "      <th>6</th>\n",
       "      <td>Bacon</td>\n",
       "      <td>18180.00</td>\n",
       "      <td>grams</td>\n",
       "    </tr>\n",
       "    <tr>\n",
       "      <th>7</th>\n",
       "      <td>Barbecue Sauce</td>\n",
       "      <td>1200.00</td>\n",
       "      <td>grams</td>\n",
       "    </tr>\n",
       "    <tr>\n",
       "      <th>8</th>\n",
       "      <td>Barbecued Chicken</td>\n",
       "      <td>3600.00</td>\n",
       "      <td>grams</td>\n",
       "    </tr>\n",
       "    <tr>\n",
       "      <th>9</th>\n",
       "      <td>Beef Chuck Roast</td>\n",
       "      <td>15960.00</td>\n",
       "      <td>grams</td>\n",
       "    </tr>\n",
       "    <tr>\n",
       "      <th>10</th>\n",
       "      <td>Blue Cheese</td>\n",
       "      <td>720.00</td>\n",
       "      <td>grams</td>\n",
       "    </tr>\n",
       "    <tr>\n",
       "      <th>11</th>\n",
       "      <td>Brie Carre Cheese</td>\n",
       "      <td>330.00</td>\n",
       "      <td>grams</td>\n",
       "    </tr>\n",
       "    <tr>\n",
       "      <th>12</th>\n",
       "      <td>Calabrese Salami</td>\n",
       "      <td>10200.00</td>\n",
       "      <td>grams</td>\n",
       "    </tr>\n",
       "    <tr>\n",
       "      <th>13</th>\n",
       "      <td>Capocollo</td>\n",
       "      <td>36600.00</td>\n",
       "      <td>grams</td>\n",
       "    </tr>\n",
       "    <tr>\n",
       "      <th>14</th>\n",
       "      <td>Caramelized Onions</td>\n",
       "      <td>176.00</td>\n",
       "      <td>grams</td>\n",
       "    </tr>\n",
       "    <tr>\n",
       "      <th>15</th>\n",
       "      <td>Chicken</td>\n",
       "      <td>47400.00</td>\n",
       "      <td>grams</td>\n",
       "    </tr>\n",
       "    <tr>\n",
       "      <th>16</th>\n",
       "      <td>Chipotle Sauce</td>\n",
       "      <td>3840.00</td>\n",
       "      <td>grams</td>\n",
       "    </tr>\n",
       "    <tr>\n",
       "      <th>17</th>\n",
       "      <td>Chorizo Sausage</td>\n",
       "      <td>1650.00</td>\n",
       "      <td>grams</td>\n",
       "    </tr>\n",
       "    <tr>\n",
       "      <th>18</th>\n",
       "      <td>Cilantro</td>\n",
       "      <td>1920.00</td>\n",
       "      <td>grams</td>\n",
       "    </tr>\n",
       "    <tr>\n",
       "      <th>19</th>\n",
       "      <td>Coarse Sicilian Salami</td>\n",
       "      <td>8400.00</td>\n",
       "      <td>grams</td>\n",
       "    </tr>\n",
       "    <tr>\n",
       "      <th>20</th>\n",
       "      <td>Corn</td>\n",
       "      <td>12800.00</td>\n",
       "      <td>grams</td>\n",
       "    </tr>\n",
       "    <tr>\n",
       "      <th>21</th>\n",
       "      <td>Eggplant</td>\n",
       "      <td>2280.00</td>\n",
       "      <td>grams</td>\n",
       "    </tr>\n",
       "    <tr>\n",
       "      <th>22</th>\n",
       "      <td>Feta Cheese</td>\n",
       "      <td>10430.00</td>\n",
       "      <td>grams</td>\n",
       "    </tr>\n",
       "    <tr>\n",
       "      <th>23</th>\n",
       "      <td>Fontina Cheese</td>\n",
       "      <td>3600.00</td>\n",
       "      <td>grams</td>\n",
       "    </tr>\n",
       "    <tr>\n",
       "      <th>24</th>\n",
       "      <td>Friggitello Peppers</td>\n",
       "      <td>600.00</td>\n",
       "      <td>grams</td>\n",
       "    </tr>\n",
       "    <tr>\n",
       "      <th>25</th>\n",
       "      <td>Garlic</td>\n",
       "      <td>16070.00</td>\n",
       "      <td>grams</td>\n",
       "    </tr>\n",
       "    <tr>\n",
       "      <th>26</th>\n",
       "      <td>Genoa Salami</td>\n",
       "      <td>4860.00</td>\n",
       "      <td>grams</td>\n",
       "    </tr>\n",
       "    <tr>\n",
       "      <th>27</th>\n",
       "      <td>Goat Cheese</td>\n",
       "      <td>7320.00</td>\n",
       "      <td>grams</td>\n",
       "    </tr>\n",
       "    <tr>\n",
       "      <th>28</th>\n",
       "      <td>Gorgonzola Piccante Cheese</td>\n",
       "      <td>2220.00</td>\n",
       "      <td>grams</td>\n",
       "    </tr>\n",
       "    <tr>\n",
       "      <th>29</th>\n",
       "      <td>Gouda Cheese</td>\n",
       "      <td>2460.00</td>\n",
       "      <td>grams</td>\n",
       "    </tr>\n",
       "    <tr>\n",
       "      <th>30</th>\n",
       "      <td>Green Olives</td>\n",
       "      <td>3480.00</td>\n",
       "      <td>grams</td>\n",
       "    </tr>\n",
       "    <tr>\n",
       "      <th>31</th>\n",
       "      <td>Green Peppers</td>\n",
       "      <td>5060.00</td>\n",
       "      <td>grams</td>\n",
       "    </tr>\n",
       "    <tr>\n",
       "      <th>32</th>\n",
       "      <td>Italian Sausage</td>\n",
       "      <td>330.00</td>\n",
       "      <td>grams</td>\n",
       "    </tr>\n",
       "    <tr>\n",
       "      <th>33</th>\n",
       "      <td>Jalapeno Peppers</td>\n",
       "      <td>3150.00</td>\n",
       "      <td>grams</td>\n",
       "    </tr>\n",
       "    <tr>\n",
       "      <th>34</th>\n",
       "      <td>Kalamata Olives</td>\n",
       "      <td>3150.00</td>\n",
       "      <td>grams</td>\n",
       "    </tr>\n",
       "    <tr>\n",
       "      <th>35</th>\n",
       "      <td>Luganega Sausage</td>\n",
       "      <td>4200.00</td>\n",
       "      <td>grams</td>\n",
       "    </tr>\n",
       "    <tr>\n",
       "      <th>36</th>\n",
       "      <td>Mozzarella Cheese</td>\n",
       "      <td>10230.00</td>\n",
       "      <td>grams</td>\n",
       "    </tr>\n",
       "    <tr>\n",
       "      <th>37</th>\n",
       "      <td>Mushrooms</td>\n",
       "      <td>22080.00</td>\n",
       "      <td>grams</td>\n",
       "    </tr>\n",
       "    <tr>\n",
       "      <th>38</th>\n",
       "      <td>Onions</td>\n",
       "      <td>2100.00</td>\n",
       "      <td>grams</td>\n",
       "    </tr>\n",
       "    <tr>\n",
       "      <th>39</th>\n",
       "      <td>Oregano</td>\n",
       "      <td>750.00</td>\n",
       "      <td>grams</td>\n",
       "    </tr>\n",
       "    <tr>\n",
       "      <th>40</th>\n",
       "      <td>Pancetta</td>\n",
       "      <td>3600.00</td>\n",
       "      <td>grams</td>\n",
       "    </tr>\n",
       "    <tr>\n",
       "      <th>41</th>\n",
       "      <td>Parmigiano Reggiano Cheese</td>\n",
       "      <td>5550.00</td>\n",
       "      <td>grams</td>\n",
       "    </tr>\n",
       "    <tr>\n",
       "      <th>42</th>\n",
       "      <td>Pears</td>\n",
       "      <td>110.00</td>\n",
       "      <td>grams</td>\n",
       "    </tr>\n",
       "    <tr>\n",
       "      <th>43</th>\n",
       "      <td>Peperoncini verdi</td>\n",
       "      <td>1080.00</td>\n",
       "      <td>grams</td>\n",
       "    </tr>\n",
       "    <tr>\n",
       "      <th>44</th>\n",
       "      <td>Pepperoni</td>\n",
       "      <td>20730.00</td>\n",
       "      <td>grams</td>\n",
       "    </tr>\n",
       "    <tr>\n",
       "      <th>45</th>\n",
       "      <td>Pesto Sauce</td>\n",
       "      <td>3420.00</td>\n",
       "      <td>grams</td>\n",
       "    </tr>\n",
       "    <tr>\n",
       "      <th>46</th>\n",
       "      <td>Pineapple</td>\n",
       "      <td>8190.00</td>\n",
       "      <td>grams</td>\n",
       "    </tr>\n",
       "    <tr>\n",
       "      <th>47</th>\n",
       "      <td>Plum Tomatoes</td>\n",
       "      <td>2400.00</td>\n",
       "      <td>grams</td>\n",
       "    </tr>\n",
       "    <tr>\n",
       "      <th>48</th>\n",
       "      <td>Prosciutto</td>\n",
       "      <td>330.00</td>\n",
       "      <td>grams</td>\n",
       "    </tr>\n",
       "    <tr>\n",
       "      <th>49</th>\n",
       "      <td>Prosciutto di San Daniele</td>\n",
       "      <td>2030.00</td>\n",
       "      <td>grams</td>\n",
       "    </tr>\n",
       "    <tr>\n",
       "      <th>50</th>\n",
       "      <td>Provolone Cheese</td>\n",
       "      <td>720.00</td>\n",
       "      <td>grams</td>\n",
       "    </tr>\n",
       "    <tr>\n",
       "      <th>51</th>\n",
       "      <td>Red Onions</td>\n",
       "      <td>49680.00</td>\n",
       "      <td>grams</td>\n",
       "    </tr>\n",
       "    <tr>\n",
       "      <th>52</th>\n",
       "      <td>Red Peppers</td>\n",
       "      <td>9240.00</td>\n",
       "      <td>grams</td>\n",
       "    </tr>\n",
       "    <tr>\n",
       "      <th>53</th>\n",
       "      <td>Ricotta Cheese</td>\n",
       "      <td>2775.00</td>\n",
       "      <td>grams</td>\n",
       "    </tr>\n",
       "    <tr>\n",
       "      <th>54</th>\n",
       "      <td>Romano Cheese</td>\n",
       "      <td>720.00</td>\n",
       "      <td>grams</td>\n",
       "    </tr>\n",
       "    <tr>\n",
       "      <th>55</th>\n",
       "      <td>Sliced Ham</td>\n",
       "      <td>3525.00</td>\n",
       "      <td>grams</td>\n",
       "    </tr>\n",
       "    <tr>\n",
       "      <th>56</th>\n",
       "      <td>Smoked Gouda Cheese</td>\n",
       "      <td>720.00</td>\n",
       "      <td>grams</td>\n",
       "    </tr>\n",
       "    <tr>\n",
       "      <th>57</th>\n",
       "      <td>Soppressata Salami</td>\n",
       "      <td>5700.00</td>\n",
       "      <td>grams</td>\n",
       "    </tr>\n",
       "    <tr>\n",
       "      <th>58</th>\n",
       "      <td>Spinach</td>\n",
       "      <td>16920.00</td>\n",
       "      <td>grams</td>\n",
       "    </tr>\n",
       "    <tr>\n",
       "      <th>59</th>\n",
       "      <td>Sun-dried Tomatoes</td>\n",
       "      <td>1170.00</td>\n",
       "      <td>grams</td>\n",
       "    </tr>\n",
       "    <tr>\n",
       "      <th>60</th>\n",
       "      <td>Thai Sweet Chilli Sauce</td>\n",
       "      <td>2640.00</td>\n",
       "      <td>grams</td>\n",
       "    </tr>\n",
       "    <tr>\n",
       "      <th>61</th>\n",
       "      <td>Thyme</td>\n",
       "      <td>55.00</td>\n",
       "      <td>grams</td>\n",
       "    </tr>\n",
       "    <tr>\n",
       "      <th>62</th>\n",
       "      <td>Tomatoes</td>\n",
       "      <td>32580.00</td>\n",
       "      <td>grams</td>\n",
       "    </tr>\n",
       "    <tr>\n",
       "      <th>63</th>\n",
       "      <td>Zucchini</td>\n",
       "      <td>2880.00</td>\n",
       "      <td>grams</td>\n",
       "    </tr>\n",
       "  </tbody>\n",
       "</table>\n",
       "</div>"
      ],
      "text/plain": [
       "                    ingredient  quantity_needed   unit\n",
       "0                 ?duja Salami          2400.00  grams\n",
       "1                Alfredo Sauce           855.00  grams\n",
       "2                    Anchovies          2380.00  grams\n",
       "3                   Artichokes          6750.00  grams\n",
       "4                      Arugula           870.00  grams\n",
       "5                Asiago Cheese          3660.00  grams\n",
       "6                        Bacon         18180.00  grams\n",
       "7               Barbecue Sauce          1200.00  grams\n",
       "8            Barbecued Chicken          3600.00  grams\n",
       "9             Beef Chuck Roast         15960.00  grams\n",
       "10                 Blue Cheese           720.00  grams\n",
       "11           Brie Carre Cheese           330.00  grams\n",
       "12            Calabrese Salami         10200.00  grams\n",
       "13                   Capocollo         36600.00  grams\n",
       "14          Caramelized Onions           176.00  grams\n",
       "15                     Chicken         47400.00  grams\n",
       "16              Chipotle Sauce          3840.00  grams\n",
       "17             Chorizo Sausage          1650.00  grams\n",
       "18                    Cilantro          1920.00  grams\n",
       "19      Coarse Sicilian Salami          8400.00  grams\n",
       "20                        Corn         12800.00  grams\n",
       "21                    Eggplant          2280.00  grams\n",
       "22                 Feta Cheese         10430.00  grams\n",
       "23              Fontina Cheese          3600.00  grams\n",
       "24         Friggitello Peppers           600.00  grams\n",
       "25                      Garlic         16070.00  grams\n",
       "26                Genoa Salami          4860.00  grams\n",
       "27                 Goat Cheese          7320.00  grams\n",
       "28  Gorgonzola Piccante Cheese          2220.00  grams\n",
       "29                Gouda Cheese          2460.00  grams\n",
       "30                Green Olives          3480.00  grams\n",
       "31               Green Peppers          5060.00  grams\n",
       "32             Italian Sausage           330.00  grams\n",
       "33            Jalapeno Peppers          3150.00  grams\n",
       "34             Kalamata Olives          3150.00  grams\n",
       "35            Luganega Sausage          4200.00  grams\n",
       "36           Mozzarella Cheese         10230.00  grams\n",
       "37                   Mushrooms         22080.00  grams\n",
       "38                      Onions          2100.00  grams\n",
       "39                     Oregano           750.00  grams\n",
       "40                    Pancetta          3600.00  grams\n",
       "41  Parmigiano Reggiano Cheese          5550.00  grams\n",
       "42                       Pears           110.00  grams\n",
       "43           Peperoncini verdi          1080.00  grams\n",
       "44                   Pepperoni         20730.00  grams\n",
       "45                 Pesto Sauce          3420.00  grams\n",
       "46                   Pineapple          8190.00  grams\n",
       "47               Plum Tomatoes          2400.00  grams\n",
       "48                  Prosciutto           330.00  grams\n",
       "49   Prosciutto di San Daniele          2030.00  grams\n",
       "50            Provolone Cheese           720.00  grams\n",
       "51                  Red Onions         49680.00  grams\n",
       "52                 Red Peppers          9240.00  grams\n",
       "53              Ricotta Cheese          2775.00  grams\n",
       "54               Romano Cheese           720.00  grams\n",
       "55                  Sliced Ham          3525.00  grams\n",
       "56         Smoked Gouda Cheese           720.00  grams\n",
       "57          Soppressata Salami          5700.00  grams\n",
       "58                     Spinach         16920.00  grams\n",
       "59          Sun-dried Tomatoes          1170.00  grams\n",
       "60     Thai Sweet Chilli Sauce          2640.00  grams\n",
       "61                       Thyme            55.00  grams\n",
       "62                    Tomatoes         32580.00  grams\n",
       "63                    Zucchini          2880.00  grams"
      ]
     },
     "execution_count": 444,
     "metadata": {},
     "output_type": "execute_result"
    }
   ],
   "source": [
    "ingredient_forecast = []\n",
    "\n",
    "# Loop through each pizza in forecast_df\n",
    "for pizza in forecast_df.columns:\n",
    "    # Get the total forecasted sales for the pizza (sum across 7 days)\n",
    "    total_sales = forecast_df[pizza].sum()\n",
    "    # Get the ingredient requirements for the pizza from ingredients_data\n",
    "    pizza_ingredients = ing_data[ing_data['pizza_name'] == pizza]\n",
    "    \n",
    "    # Calculate total ingredient requirements\n",
    "    for _, row in pizza_ingredients.iterrows():\n",
    "        ingredient_forecast.append({\n",
    "            'ingredient': row['pizza_ingredients'],  # Ingredient name\n",
    "            'quantity_needed': total_sales * row['Items_Qty_In_Grams']  # Forecast * quantity per pizza\n",
    "        })\n",
    "\n",
    "# Convert to DataFrame\n",
    "ingredient_forecast_df = pd.DataFrame(ingredient_forecast)\n",
    "# Summarize by ingredient\n",
    "final_purchase_order = ingredient_forecast_df.groupby('ingredient').agg({'quantity_needed': 'sum'}).reset_index()\n",
    "# Add a unit column (e.g., grams)\n",
    "final_purchase_order['unit'] = 'grams'\n",
    "\n",
    "# Display the final purchase order\n",
    "print(\"Final Purchase Order:\")\n",
    "pd.set_option('display.max_rows',64)\n",
    "final_purchase_order\n",
    "    \n",
    "\n"
   ]
  },
  {
   "cell_type": "code",
   "execution_count": null,
   "id": "7ba74582-bde5-4b14-8693-5335eb904458",
   "metadata": {},
   "outputs": [],
   "source": []
  }
 ],
 "metadata": {
  "kernelspec": {
   "display_name": "Python 3 (ipykernel)",
   "language": "python",
   "name": "python3"
  },
  "language_info": {
   "codemirror_mode": {
    "name": "ipython",
    "version": 3
   },
   "file_extension": ".py",
   "mimetype": "text/x-python",
   "name": "python",
   "nbconvert_exporter": "python",
   "pygments_lexer": "ipython3",
   "version": "3.12.7"
  }
 },
 "nbformat": 4,
 "nbformat_minor": 5
}
